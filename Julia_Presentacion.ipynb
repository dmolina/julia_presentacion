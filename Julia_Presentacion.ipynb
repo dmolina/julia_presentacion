{
 "cells": [
  {
   "cell_type": "code",
   "execution_count": 14,
   "metadata": {
    "slideshow": {
     "slide_type": "skip"
    }
   },
   "outputs": [],
   "source": [
    "using Revise"
   ]
  },
  {
   "cell_type": "markdown",
   "metadata": {
    "slideshow": {
     "slide_type": "slide"
    }
   },
   "source": [
    "# <center>Introducción a</center>\n",
    "<center><a href=\"http://julialang.org/\" target=\"_blank\"><img src=\"figs/julia_logo_small.png\"/></a>\n",
    "\n"
   ]
  },
  {
   "cell_type": "markdown",
   "metadata": {
    "slideshow": {
     "slide_type": "fragment"
    }
   },
   "source": [
    "### <center>Daniel Molina Cabrera</center> <br><center><a href=\"mailto:dmolina@decsai.ugr.es\">dmolina@decsai.ugr.es</a></center>"
   ]
  },
  {
   "cell_type": "markdown",
   "metadata": {
    "slideshow": {
     "slide_type": "slide"
    }
   },
   "source": [
    "# ¿Qué es Julia?"
   ]
  },
  {
   "cell_type": "markdown",
   "metadata": {
    "slideshow": {
     "slide_type": "subslide"
    }
   },
   "source": [
    "# Motivación de Julia en 2009\n",
    "\n",
    "> We want a language that’s **open source**, with a liberal license. We want **the speed of C** with the **dynamism of Ruby**. We want a language that’s homoiconic, with true macros like Lisp, but with obvious, **familiar mathematical notation like Matlab**. We want something as usable for **general programming as Python**, **as  easy for statistics as R**, as natural for string processing as Perl, as **powerful for linear algebra as Matlab**, as good at gluing programs together as the shell. Something that is dirt simple to learn, yet keeps the most serious hackers happy. We want it **interactive** and we want **it compiled**.\n",
    "\n",
    "> (Did we mention it should be as fast as C?)"
   ]
  },
  {
   "cell_type": "markdown",
   "metadata": {
    "slideshow": {
     "slide_type": "subslide"
    }
   },
   "source": [
    "# Por tanto\n",
    "\n",
    "- Es un Lenguaje Software Libre. \n",
    "- De propósito general, pero hecho por y para científicos. \n",
    "- Eficiente (no interpreta las funciones, las compila y ejecuta).\n",
    "- Muy similar a Python.\n"
   ]
  },
  {
   "cell_type": "markdown",
   "metadata": {
    "slideshow": {
     "slide_type": "subslide"
    }
   },
   "source": [
    "# Código en Python _vs_ Julia\n",
    "```python\n",
    "def fib(n):\n",
    "    if n <= 1:\n",
    "        return 1\n",
    "    else:\n",
    "        return fib(n-1)+fib(n-2)\n",
    "    \n",
    "%time fib(40)```\n"
   ]
  },
  {
   "cell_type": "code",
   "execution_count": null,
   "metadata": {},
   "outputs": [],
   "source": []
  },
  {
   "cell_type": "markdown",
   "metadata": {
    "slideshow": {
     "slide_type": "subslide"
    }
   },
   "source": [
    "\n",
    "<center><img src=\"figs/julia_nature.png\"></center>"
   ]
  },
  {
   "cell_type": "markdown",
   "metadata": {
    "slideshow": {
     "slide_type": "slide"
    }
   },
   "source": [
    "# Evolución de Julia"
   ]
  },
  {
   "cell_type": "markdown",
   "metadata": {
    "slideshow": {
     "slide_type": "subslide"
    }
   },
   "source": [
    "# Origen de Julia\n",
    "\n",
    "- Desarrollado por varios estudiantes de Doctorado del MIT desde 2009, primera versión pública en 2012.\n",
    "- Versión 1.0 en Agosto de 2018.\n",
    "    - Más de 2 millones de descargas, estimado medio millón de usuarios habituales.\n",
    "    - 750 han subido commit (yo incluído).\n",
    "    - +2400 paquetes, algunos de mucha calidad."
   ]
  },
  {
   "cell_type": "markdown",
   "metadata": {
    "slideshow": {
     "slide_type": "subslide"
    }
   },
   "source": [
    "# Recientes Hitos de Julia\n",
    "\n",
    "- Sistema de Paquetes a Final de 2018.\n",
    "- Reescrito depurador en 2019."
   ]
  },
  {
   "cell_type": "markdown",
   "metadata": {
    "slideshow": {
     "slide_type": "fragment"
    }
   },
   "source": [
    "# Futuros cambios\n",
    "\n",
    "- Versión 1.3 con mejor soporte de hebras (Release).\n",
    "- Mejorar la carga de librerías en Versión 1.4.\n",
    "- Permitir crear ejecutables."
   ]
  },
  {
   "cell_type": "markdown",
   "metadata": {
    "slideshow": {
     "slide_type": "slide"
    }
   },
   "source": [
    "# Motivo de Julia\n"
   ]
  },
  {
   "cell_type": "markdown",
   "metadata": {
    "slideshow": {
     "slide_type": "fragment"
    }
   },
   "source": [
    "## Evitar el problema del doble lenguaje\n",
    "\n",
    "- Uno sencillo para flexibilidad, pero lento. \n",
    "- Uno complejo pero rápido."
   ]
  },
  {
   "cell_type": "markdown",
   "metadata": {
    "slideshow": {
     "slide_type": "subslide"
    }
   },
   "source": [
    "<center> <img src=\"figs/two2.png\"></center>"
   ]
  },
  {
   "cell_type": "markdown",
   "metadata": {
    "slideshow": {
     "slide_type": "subslide"
    }
   },
   "source": [
    "# No tiene por qué ser asi"
   ]
  },
  {
   "cell_type": "markdown",
   "metadata": {
    "slideshow": {
     "slide_type": "subslide"
    }
   },
   "source": [
    "### <center>Algunos Benchmarks</center>\n",
    "\n",
    "<center><img src=\"figs/benchmarks.png\" width=\"80%\"/></center>"
   ]
  },
  {
   "cell_type": "markdown",
   "metadata": {
    "slideshow": {
     "slide_type": "subslide"
    }
   },
   "source": [
    "<center><img src=\"figs/julia_vs_others.png\"/></center>"
   ]
  },
  {
   "cell_type": "markdown",
   "metadata": {
    "slideshow": {
     "slide_type": "subslide"
    }
   },
   "source": [
    "# El objetivo es simplificar la vida"
   ]
  },
  {
   "cell_type": "markdown",
   "metadata": {
    "slideshow": {
     "slide_type": "subslide"
    }
   },
   "source": [
    "<center> <img src=\"figs/two1.png\"></center>"
   ]
  },
  {
   "cell_type": "markdown",
   "metadata": {
    "slideshow": {
     "slide_type": "subslide"
    }
   },
   "source": [
    "<center> <img src=\"figs/two3.png\"></center>"
   ]
  },
  {
   "cell_type": "markdown",
   "metadata": {
    "slideshow": {
     "slide_type": "subslide"
    }
   },
   "source": [
    "# Mi caso es parecido\n",
    "\n",
    "Trabajo en Metaheurísticas, la mayoría usa Matlab (yo Python), en problemas complejos"
   ]
  },
  {
   "cell_type": "markdown",
   "metadata": {
    "slideshow": {
     "slide_type": "fragment"
    }
   },
   "source": [
    "## Ejecutando código externo\n",
    "\n",
    "- Pasado en Matlab, problemas de licencia.\n",
    "- Ejecutar en Octave supone tardar mucho más. \n",
    "- Pasarlo a Python es conflictivo:\n",
    "    - Sintaxis distinta.\n",
    "    - Posibles problemas: En Matlab índices desde 1, en Python por 0. \n",
    "    - En Python es necesario usar numpy, sintaxis más alejada de Matlab."
   ]
  },
  {
   "cell_type": "markdown",
   "metadata": {
    "slideshow": {
     "slide_type": "subslide"
    }
   },
   "source": [
    "### Proceso de mis algoritmos\n",
    "\n",
    "- Python para prototipado.\n",
    "- Numpy para rendimiento.\n",
    "- Evitar condiciones, usar operaciones vectorizadas.\n",
    "- Identificar cuellos de botella.\n",
    "- A veces C++ para reimplementar esas partes (Cython).\n"
   ]
  },
  {
   "cell_type": "markdown",
   "metadata": {
    "slideshow": {
     "slide_type": "fragment"
    }
   },
   "source": [
    "### Usando Julia\n",
    "\n",
    "- No es necesario Numpy ni cython.\n",
    "- Librerías sólo disponibles en Python usando PyCall.\n",
    "- Más fácil llamar código C/C++ que desde Python."
   ]
  },
  {
   "cell_type": "markdown",
   "metadata": {
    "slideshow": {
     "slide_type": "slide"
    }
   },
   "source": [
    "# Julia vs Python"
   ]
  },
  {
   "cell_type": "markdown",
   "metadata": {
    "slideshow": {
     "slide_type": "subslide"
    }
   },
   "source": [
    "## Semejanzas\n",
    "\n",
    "- Sintaxis muy similar.\n",
    "- Entorno Interactivo (REPL) como IPython."
   ]
  },
  {
   "cell_type": "markdown",
   "metadata": {
    "slideshow": {
     "slide_type": "fragment"
    }
   },
   "source": [
    "<center><img src=\"figs/repl.png\"></center>\n"
   ]
  },
  {
   "cell_type": "markdown",
   "metadata": {
    "slideshow": {
     "slide_type": "fragment"
    }
   },
   "source": [
    "- Modo Julia, por defecto.\n",
    "- Modo Package \\[, para buscar y gestionar paquetes.\n",
    "- Modo Shell \\; para ejecutar comandos.\n",
    "\n",
    "Vamos a verlo."
   ]
  },
  {
   "cell_type": "markdown",
   "metadata": {
    "slideshow": {
     "slide_type": "subslide"
    }
   },
   "source": [
    "# Repositorio Oficial de Paquetes"
   ]
  },
  {
   "cell_type": "code",
   "execution_count": 38,
   "metadata": {
    "slideshow": {
     "slide_type": "fragment"
    }
   },
   "outputs": [
    {
     "name": "stdout",
     "output_type": "stream",
     "text": [
      "\u001b[32m\u001b[1m Resolving\u001b[22m\u001b[39m package versions...\n",
      "\u001b[32m\u001b[1m  Updating\u001b[22m\u001b[39m `~/.julia/environments/v1.2/Project.toml`\n",
      "\u001b[90m [no changes]\u001b[39m\n",
      "\u001b[32m\u001b[1m  Updating\u001b[22m\u001b[39m `~/.julia/environments/v1.2/Manifest.toml`\n",
      "\u001b[90m [no changes]\u001b[39m\n"
     ]
    }
   ],
   "source": [
    "using Pkg\n",
    "Pkg.add(\"OhMyREPL\")"
   ]
  },
  {
   "cell_type": "code",
   "execution_count": 40,
   "metadata": {
    "slideshow": {
     "slide_type": "fragment"
    }
   },
   "outputs": [],
   "source": [
    "using OhMyREPL"
   ]
  },
  {
   "cell_type": "markdown",
   "metadata": {
    "slideshow": {
     "slide_type": "subslide"
    }
   },
   "source": [
    "# Más semejanzas con Python\n",
    "\n",
    "- Uso de paquetes, importa con **import** o con **using**. \n",
    "- Sistema de tests automáticos."
   ]
  },
  {
   "cell_type": "code",
   "execution_count": 43,
   "metadata": {},
   "outputs": [
    {
     "data": {
      "text/plain": [
       "3-element Array{Float64,1}:\n",
       " -4.039227074993034 \n",
       "  2.5703006007464797\n",
       "  1.5694341722914658"
      ]
     },
     "execution_count": 43,
     "metadata": {},
     "output_type": "execute_result"
    }
   ],
   "source": [
    "import Distributions\n",
    "rand(Distributions.Uniform(-5, 5), 3)"
   ]
  },
  {
   "cell_type": "code",
   "execution_count": 44,
   "metadata": {},
   "outputs": [
    {
     "data": {
      "text/plain": [
       "3-element Array{Float64,1}:\n",
       " 0.35264769161857323\n",
       " 1.179009962504236  \n",
       " 2.0017282827132865 "
      ]
     },
     "execution_count": 44,
     "metadata": {},
     "output_type": "execute_result"
    }
   ],
   "source": [
    "using Distributions: Uniform \n",
    "rand(Uniform(-5, 5), 3)"
   ]
  },
  {
   "cell_type": "code",
   "execution_count": 46,
   "metadata": {},
   "outputs": [
    {
     "data": {
      "text/plain": [
       "3-element Array{Float64,1}:\n",
       " -4.753048394464175 \n",
       " -2.809094029085335 \n",
       " -2.9108722364243977"
      ]
     },
     "execution_count": 46,
     "metadata": {},
     "output_type": "execute_result"
    }
   ],
   "source": [
    "using Distributions\n",
    "rand(Uniform(-5, 5), 3)"
   ]
  },
  {
   "cell_type": "markdown",
   "metadata": {
    "slideshow": {
     "slide_type": "subslide"
    }
   },
   "source": [
    "# Diferencias en la sintaxis\n",
    "\n",
    "- _def_ => _function_ (como Matlab).\n",
    "- No usa tabulador para distinguir, usa **end**. \n",
    "- Lo bueno es que no tiene begin, y el _end_ es reducido (no antes de un else, por ejemplo)."
   ]
  },
  {
   "cell_type": "code",
   "execution_count": 59,
   "metadata": {},
   "outputs": [
    {
     "name": "stdout",
     "output_type": "stream",
     "text": [
      "fibo(40) = 165580141\n",
      "  0.010907 seconds (20.29 k allocations: 1.106 MiB)\n"
     ]
    },
    {
     "data": {
      "text/plain": [
       "165580141"
      ]
     },
     "execution_count": 59,
     "metadata": {},
     "output_type": "execute_result"
    }
   ],
   "source": [
    "function fibo(n::Int)\n",
    "    (a, b) = (1, 1)\n",
    "    \n",
    "    for _ in 1:n-1\n",
    "        (a, b) = (a+b, a)   \n",
    "        end\n",
    "    a\n",
    "end\n",
    "@time @show fibo(40)"
   ]
  },
  {
   "cell_type": "markdown",
   "metadata": {
    "slideshow": {
     "slide_type": "subslide"
    }
   },
   "source": [
    "# Tipos opcionales\n",
    "- No es necesario, él deduce cuando se llama al método.\n",
    "- Existen tipos genéricos, útiles para evitar errores (Int, Float, Real, Number, AbstractString, ...."
   ]
  },
  {
   "cell_type": "code",
   "execution_count": 67,
   "metadata": {},
   "outputs": [
    {
     "ename": "MethodError",
     "evalue": "MethodError: no method matching sphere(::Int64)\nClosest candidates are:\n  sphere(!Matched::AbstractArray) at In[67]:1",
     "output_type": "error",
     "traceback": [
      "MethodError: no method matching sphere(::Int64)\nClosest candidates are:\n  sphere(!Matched::AbstractArray) at In[67]:1",
      "",
      "Stacktrace:",
      " [1] top-level scope at In[67]:2"
     ]
    }
   ],
   "source": [
    "sphere(x::AbstractArray)= sum(x.^2)\n",
    "sphere(3)"
   ]
  },
  {
   "cell_type": "code",
   "execution_count": 70,
   "metadata": {},
   "outputs": [
    {
     "data": {
      "text/plain": [
       "50"
      ]
     },
     "execution_count": 70,
     "metadata": {},
     "output_type": "execute_result"
    }
   ],
   "source": [
    "sphere([3, 4, 5])"
   ]
  },
  {
   "cell_type": "markdown",
   "metadata": {
    "slideshow": {
     "slide_type": "subslide"
    }
   },
   "source": [
    "# Es eficiente porque se compila según el tipo concreto"
   ]
  },
  {
   "cell_type": "code",
   "execution_count": 68,
   "metadata": {},
   "outputs": [
    {
     "name": "stdout",
     "output_type": "stream",
     "text": [
      "Variables\n",
      "  #self#\u001b[36m::Core.Compiler.Const(sphere, false)\u001b[39m\n",
      "  x\u001b[36m::Array{Int64,1}\u001b[39m\n",
      "\n",
      "Body\u001b[36m::Int64\u001b[39m\n",
      "\u001b[90m1 ─\u001b[39m %1 = Core.apply_type(Base.Val, 2)\u001b[36m::Core.Compiler.Const(Val{2}, false)\u001b[39m\n",
      "\u001b[90m│  \u001b[39m %2 = (%1)()\u001b[36m::Core.Compiler.Const(Val{2}(), false)\u001b[39m\n",
      "\u001b[90m│  \u001b[39m %3 = Base.broadcasted(Base.literal_pow, Main.:^, x, %2)\u001b[36m::Base.Broadcast.Broadcasted{Base.Broadcast.DefaultArrayStyle{1},Nothing,typeof(Base.literal_pow),Tuple{Base.RefValue{typeof(^)},Array{Int64,1},Base.RefValue{Val{2}}}}\u001b[39m\n",
      "\u001b[90m│  \u001b[39m %4 = Base.materialize(%3)\u001b[36m::Array{Int64,1}\u001b[39m\n",
      "\u001b[90m│  \u001b[39m %5 = Main.sum(%4)\u001b[36m::Int64\u001b[39m\n",
      "\u001b[90m└──\u001b[39m      return %5\n"
     ]
    }
   ],
   "source": [
    "@code_warntype sphere([3, 4, 5])"
   ]
  },
  {
   "cell_type": "markdown",
   "metadata": {
    "slideshow": {
     "slide_type": "subslide"
    }
   },
   "source": [
    "# Es eficiente porque se compila según el tipo concreto"
   ]
  },
  {
   "cell_type": "code",
   "execution_count": 77,
   "metadata": {},
   "outputs": [],
   "source": [
    "fabsurda(x)=x^2+3;  "
   ]
  },
  {
   "cell_type": "code",
   "execution_count": 78,
   "metadata": {},
   "outputs": [
    {
     "name": "stdout",
     "output_type": "stream",
     "text": [
      "Variables\n",
      "  #self#\u001b[36m::Core.Compiler.Const(fabsurda, false)\u001b[39m\n",
      "  x\u001b[36m::Int64\u001b[39m\n",
      "\n",
      "Body\u001b[36m::Int64\u001b[39m\n",
      "\u001b[90m1 ─\u001b[39m %1 = Core.apply_type(Base.Val, 2)\u001b[36m::Core.Compiler.Const(Val{2}, false)\u001b[39m\n",
      "\u001b[90m│  \u001b[39m %2 = (%1)()\u001b[36m::Core.Compiler.Const(Val{2}(), false)\u001b[39m\n",
      "\u001b[90m│  \u001b[39m %3 = Base.literal_pow(Main.:^, x, %2)\u001b[36m::Int64\u001b[39m\n",
      "\u001b[90m│  \u001b[39m %4 = (%3 + 3)\u001b[36m::Int64\u001b[39m\n",
      "\u001b[90m└──\u001b[39m      return %4\n"
     ]
    }
   ],
   "source": [
    "@code_warntype fabsurda(3)"
   ]
  },
  {
   "cell_type": "code",
   "execution_count": 80,
   "metadata": {
    "slideshow": {
     "slide_type": "subslide"
    }
   },
   "outputs": [
    {
     "name": "stdout",
     "output_type": "stream",
     "text": [
      "Variables\n",
      "  #self#\u001b[36m::Core.Compiler.Const(fabsurda, false)\u001b[39m\n",
      "  x\u001b[36m::Float64\u001b[39m\n",
      "\n",
      "Body\u001b[36m::Float64\u001b[39m\n",
      "\u001b[90m1 ─\u001b[39m %1 = Core.apply_type(Base.Val, 2)\u001b[36m::Core.Compiler.Const(Val{2}, false)\u001b[39m\n",
      "\u001b[90m│  \u001b[39m %2 = (%1)()\u001b[36m::Core.Compiler.Const(Val{2}(), false)\u001b[39m\n",
      "\u001b[90m│  \u001b[39m %3 = Base.literal_pow(Main.:^, x, %2)\u001b[36m::Float64\u001b[39m\n",
      "\u001b[90m│  \u001b[39m %4 = (%3 + 3)\u001b[36m::Float64\u001b[39m\n",
      "\u001b[90m└──\u001b[39m      return %4\n"
     ]
    }
   ],
   "source": [
    "@code_warntype fabsurda(3.3)"
   ]
  },
  {
   "cell_type": "code",
   "execution_count": 84,
   "metadata": {
    "slideshow": {
     "slide_type": "fragment"
    }
   },
   "outputs": [
    {
     "name": "stdout",
     "output_type": "stream",
     "text": [
      "\n",
      ";  @ In[77]:1 within `fabsurda'\n",
      "define i64 @julia_fabsurda_17527(i64) {\n",
      "top:\n",
      "; ┌ @ intfuncs.jl:244 within `literal_pow'\n",
      "; │┌ @ int.jl:54 within `*'\n",
      "    %1 = mul i64 %0, %0\n",
      "; └└\n",
      "; ┌ @ int.jl:53 within `+'\n",
      "   %2 = add i64 %1, 3\n",
      "; └\n",
      "  ret i64 %2\n",
      "}\n"
     ]
    }
   ],
   "source": [
    "@code_llvm fabsurda(3)"
   ]
  },
  {
   "cell_type": "markdown",
   "metadata": {
    "slideshow": {
     "slide_type": "subslide"
    }
   },
   "source": [
    "# Diferente inicio del índice\n",
    "- Empieza en 1, no en 0. \n",
    "\n",
    "No es tan problemático, se suele usar iterador y/o enumerate."
   ]
  },
  {
   "cell_type": "code",
   "execution_count": 95,
   "metadata": {},
   "outputs": [
    {
     "name": "stdout",
     "output_type": "stream",
     "text": [
      "1: Uno\n",
      "2: Dos\n",
      "3: Tres\n"
     ]
    }
   ],
   "source": [
    "values = [\"Uno\", \"Dos\", \"Tres\"]\n",
    "\n",
    "for (i, val) in enumerate(values)\n",
    "    println(\"$i: $val\")\n",
    "end"
   ]
  },
  {
   "cell_type": "markdown",
   "metadata": {
    "slideshow": {
     "slide_type": "subslide"
    }
   },
   "source": [
    "# Estructuras de Datos en el lenguaje\n",
    "\n",
    "- Arrays, dentro del propio lenguaje.\n",
    "- String, UTF-8.\n",
    "- Diccionarios.\n",
    "- Conjuntos."
   ]
  },
  {
   "cell_type": "code",
   "execution_count": 108,
   "metadata": {},
   "outputs": [
    {
     "data": {
      "text/plain": [
       "Dict{Int64,String} with 3 entries:\n",
       "  2 => \"Dos\"\n",
       "  3 => \"Tres\"\n",
       "  1 => \"Uno\""
      ]
     },
     "execution_count": 108,
     "metadata": {},
     "output_type": "execute_result"
    }
   ],
   "source": [
    "dict = Dict(i=>val for (i, val) in enumerate(values))"
   ]
  },
  {
   "cell_type": "code",
   "execution_count": 100,
   "metadata": {},
   "outputs": [
    {
     "name": "stdout",
     "output_type": "stream",
     "text": [
      "[2, 3, 1]\n"
     ]
    }
   ],
   "source": [
    "println(keys(dict))"
   ]
  },
  {
   "cell_type": "code",
   "execution_count": 107,
   "metadata": {},
   "outputs": [
    {
     "data": {
      "text/plain": [
       "3-element Array{Int64,1}:\n",
       " 4\n",
       " 2\n",
       " 1"
      ]
     },
     "execution_count": 107,
     "metadata": {},
     "output_type": "execute_result"
    }
   ],
   "source": [
    "collect(Set([1, 2, 4, 2, 4]))"
   ]
  },
  {
   "cell_type": "code",
   "execution_count": null,
   "metadata": {},
   "outputs": [],
   "source": [
    "     "
   ]
  },
  {
   "cell_type": "code",
   "execution_count": null,
   "metadata": {},
   "outputs": [],
   "source": []
  },
  {
   "cell_type": "code",
   "execution_count": null,
   "metadata": {},
   "outputs": [],
   "source": []
  },
  {
   "cell_type": "markdown",
   "metadata": {
    "slideshow": {
     "slide_type": "subslide"
    }
   },
   "source": [
    "# Modo de Ayuda\n",
    "\n",
    "Uso de cadenas descriptivas para cada función. "
   ]
  },
  {
   "cell_type": "code",
   "execution_count": 102,
   "metadata": {},
   "outputs": [
    {
     "name": "stdout",
     "output_type": "stream",
     "text": [
      "fibo(40) = 165580141\n",
      "  0.011626 seconds (20.29 k allocations: 1.106 MiB)\n"
     ]
    },
    {
     "data": {
      "text/plain": [
       "165580141"
      ]
     },
     "execution_count": 102,
     "metadata": {},
     "output_type": "execute_result"
    }
   ],
   "source": [
    "\"\"\"\n",
    "Esta función permite calculo el número de fibonacci.\n",
    "\n",
    "n: Entero del cual calcular fibonacci.\n",
    "\"\"\"\n",
    "function fibo(n::Int)\n",
    "    (a, b) = (1, 1)\n",
    "    \n",
    "    for _ in 1:n-1\n",
    "        (a, b) = (a+b, a)\n",
    "    end\n",
    "    a\n",
    "end\n",
    "@time @show fibo(40)"
   ]
  },
  {
   "cell_type": "code",
   "execution_count": 104,
   "metadata": {
    "slideshow": {
     "slide_type": "subslide"
    }
   },
   "outputs": [
    {
     "name": "stdout",
     "output_type": "stream",
     "text": [
      "search: \u001b[0m\u001b[1mf\u001b[22m\u001b[0m\u001b[1mi\u001b[22m\u001b[0m\u001b[1mb\u001b[22m\u001b[0m\u001b[1mo\u001b[22m \u001b[0m\u001b[1mf\u001b[22m\u001b[0m\u001b[1mi\u001b[22m\u001b[0m\u001b[1mb\u001b[22m2 \u001b[0m\u001b[1mf\u001b[22m\u001b[0m\u001b[1mi\u001b[22m\u001b[0m\u001b[1mb\u001b[22m \u001b[0m\u001b[1mf\u001b[22ma\u001b[0m\u001b[1mi\u001b[22mlpro\u001b[0m\u001b[1mb\u001b[22m unsa\u001b[0m\u001b[1mf\u001b[22me_po\u001b[0m\u001b[1mi\u001b[22mnter_to_o\u001b[0m\u001b[1mb\u001b[22mjref\n",
      "\n"
     ]
    },
    {
     "data": {
      "text/latex": [
       "Esta función permite calculo el número de fibonacci.\n",
       "\n",
       "n: Entero del cual calcular fibonacci.\n",
       "\n"
      ],
      "text/markdown": [
       "Esta función permite calculo el número de fibonacci.\n",
       "\n",
       "n: Entero del cual calcular fibonacci.\n"
      ],
      "text/plain": [
       "  Esta función permite calculo el número de fibonacci.\n",
       "\n",
       "  n: Entero del cual calcular fibonacci."
      ]
     },
     "execution_count": 104,
     "metadata": {},
     "output_type": "execute_result"
    }
   ],
   "source": [
    "?fibo"
   ]
  },
  {
   "cell_type": "markdown",
   "metadata": {},
   "source": [
    "Se puede construir fácilmente la documentación, Paquete [Documenter.jl](https://juliadocs.github.io/Documenter.jl/stable/):\n",
    "- Usa Markdown para describirlo para los usuarios.\n",
    "- Permite añadir la documentación del API. \n",
    "- Usar ejemplos que sirven también de test. "
   ]
  },
  {
   "cell_type": "markdown",
   "metadata": {
    "slideshow": {
     "slide_type": "slide"
    }
   },
   "source": [
    "# Comunidad Científica\n",
    "\n",
    "Librerías/Paquetes populares en: [https://pkg.julialang.org/docs/](https://pkg.julialang.org/docs/)\n",
    "\n",
    "- Notebook: [IJulia](https://pkg.julialang.org/docs/IJulia/nfu7T/1.20.2/)\n",
    "- Científico: [QueryVerse](https://www.queryverse.org/)\n",
    "    - Librería DataFrames: [DataFrames.jl](https://github.com/JuliaData/DataFrames.jl)\n",
    "    - Visualización: [VegaLite](https://www.queryverse.org/VegaLite.jl/stable/)\n",
    "- Visualización: [Gadfly](https://gadflyjl.org/stable/tutorial/), [Plots](https://docs.juliaplots.org/latest/tutorial/#tutorial-1), [StatsPlots](https://github.com/JuliaPlots/StatsPlots.jl)\n",
    "- Librerías de Deep Learning: [Flux.jl](https://fluxml.ai/), [KNet.jl](https://github.com/denizyuret/Knet.jl).\n"
   ]
  },
  {
   "cell_type": "markdown",
   "metadata": {
    "slideshow": {
     "slide_type": "subslide"
    }
   },
   "source": [
    "# Comunidad científica\n",
    "\n",
    "## Librerías del Estado del Arte\n",
    "- Librería de optimización: [JuMP](https://pkg.julialang.org/docs/JuMP/DmXqY/0.20.1/quickstart.html#Quick-Start-Guide-1)\n",
    "- Ecuaciones Diferenciales: [DifferentialEquations](https://docs.juliadiffeq.org/latest/)\n",
    "- Librerías estadística: [Distributions](https://juliastats.org/Distributions.jl/latest/starting/)\n",
    "\n",
    "## Más genéricas\n",
    "- Páginas web: [Genie](https://genieframework.github.io/Genie.jl/)\n",
    "- Base de Datos: [Octo](https://github.com/wookay/Octo.jl)"
   ]
  },
  {
   "cell_type": "markdown",
   "metadata": {
    "slideshow": {
     "slide_type": "slide"
    }
   },
   "source": [
    "# Benchmarks"
   ]
  },
  {
   "cell_type": "markdown",
   "metadata": {
    "slideshow": {
     "slide_type": "subslide"
    }
   },
   "source": [
    "# Ejemplo sencillo"
   ]
  },
  {
   "cell_type": "code",
   "execution_count": 29,
   "metadata": {
    "slideshow": {
     "slide_type": "fragment"
    }
   },
   "outputs": [
    {
     "data": {
      "text/plain": [
       "smallestdivisall (generic function with 1 method)"
      ]
     },
     "execution_count": 29,
     "metadata": {},
     "output_type": "execute_result"
    }
   ],
   "source": [
    "function smallestdivisall(n::Int64)\n",
    "    for i = 1:factorial(n)\n",
    "        for j = 1:n\n",
    "            if i % j !=0  \n",
    "                break\n",
    "            elseif j == n\n",
    "                return i\n",
    "            end\n",
    "        end\n",
    "    end\n",
    "end\n"
   ]
  },
  {
   "cell_type": "markdown",
   "metadata": {
    "slideshow": {
     "slide_type": "subslide"
    }
   },
   "source": [
    "# Resultados\n",
    "\n",
    "<center><img src=\"figs/jit-comparison.png\"/></center>\n",
    "\n",
    "Fuente: https://randyzwitch.com/python-pypy-julia-r-pqr-jit-just-in-time-compiler/\n"
   ]
  },
  {
   "cell_type": "markdown",
   "metadata": {
    "slideshow": {
     "slide_type": "subslide"
    }
   },
   "source": [
    "### Benchmarks de funciones comunes\n",
    "\n",
    "Rápidamente: Los tiempos de Julia son semejantes a los de C, Matlab/Python/R son órdenes de magnitud más lentos \n",
    "<center><img src=\"figs/benchmarks.png\"/></center>"
   ]
  },
  {
   "cell_type": "markdown",
   "metadata": {
    "slideshow": {
     "slide_type": "subslide"
    }
   },
   "source": [
    "# Carga de Datos\n",
    "\n",
    "<center> <img width=\"75%\" src=\"figs/carga_datos.png\"></center>"
   ]
  },
  {
   "cell_type": "markdown",
   "metadata": {
    "slideshow": {
     "slide_type": "subslide"
    }
   },
   "source": [
    "# Origen de las librerías\n",
    "\n",
    "<center><img src=\"figs/two_language_problem.jpg\"/></center>"
   ]
  }
 ],
 "metadata": {
  "@webio": {
   "lastCommId": null,
   "lastKernelId": null
  },
  "celltoolbar": "Slideshow",
  "kernelspec": {
   "display_name": "Julia 1.2.0",
   "language": "julia",
   "name": "julia-1.2"
  },
  "language_info": {
   "file_extension": ".jl",
   "mimetype": "application/julia",
   "name": "julia",
   "version": "1.2.0"
  }
 },
 "nbformat": 4,
 "nbformat_minor": 2
}
