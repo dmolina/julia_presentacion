{
 "cells": [
  {
   "cell_type": "code",
   "execution_count": 14,
   "metadata": {
    "slideshow": {
     "slide_type": "skip"
    }
   },
   "outputs": [],
   "source": [
    "using Revise"
   ]
  },
  {
   "cell_type": "markdown",
   "metadata": {
    "slideshow": {
     "slide_type": "slide"
    }
   },
   "source": [
    "# <center>Introducción a Julia</center>\n",
    "<center><a href=\"http://julialang.org/\" target=\"_blank\"><img src=\"figs/julia_logo_small.png\"/></a>\n",
    "\n"
   ]
  },
  {
   "cell_type": "markdown",
   "metadata": {
    "slideshow": {
     "slide_type": "fragment"
    }
   },
   "source": [
    "### <center>Daniel Molina Cabrera</center> <br><center><a href=\"mailto:dmolina@decsai.ugr.es\">dmolina@decsai.ugr.es</a></center>"
   ]
  },
  {
   "cell_type": "markdown",
   "metadata": {
    "slideshow": {
     "slide_type": "slide"
    }
   },
   "source": [
    "# ¿Qué es Julia?"
   ]
  },
  {
   "cell_type": "markdown",
   "metadata": {
    "slideshow": {
     "slide_type": "subslide"
    }
   },
   "source": [
    "# Motivación de Julia en 2009\n",
    "\n",
    "> We want a language that’s **open source**, with a liberal license. We want **the speed of C** with the **dynamism of Ruby**. We want a language that’s homoiconic, with true macros like Lisp, but with obvious, **familiar mathematical notation like Matlab**. We want something as usable for **general programming as Python**, **as  easy for statistics as R**, as natural for string processing as Perl, as **powerful for linear algebra as Matlab**, as good at gluing programs together as the shell. Something that is dirt simple to learn, yet keeps the most serious hackers happy. We want it **interactive** and we want **it compiled**.\n",
    "\n",
    "> (Did we mention it should be as fast as C?)"
   ]
  },
  {
   "cell_type": "markdown",
   "metadata": {
    "slideshow": {
     "slide_type": "subslide"
    }
   },
   "source": [
    "# Por tanto\n",
    "\n",
    "- Es un Lenguaje Software Libre. \n",
    "- De propósito general, pero hecho por y para científicos. \n",
    "- Eficiente (no interpreta las funciones, las compila y ejecuta).\n",
    "- Muy similar a Python.\n"
   ]
  },
  {
   "cell_type": "markdown",
   "metadata": {
    "slideshow": {
     "slide_type": "subslide"
    }
   },
   "source": [
    "# Código en Python _vs_ Julia\n",
    "```python\n",
    "def fib(n):\n",
    "    if n <= 1:\n",
    "        return 1\n",
    "    else:\n",
    "        return fib(n-1)+fib(n-2)\n",
    "    \n",
    "%time fib(40)```\n"
   ]
  },
  {
   "cell_type": "code",
   "execution_count": null,
   "metadata": {},
   "outputs": [],
   "source": []
  },
  {
   "cell_type": "markdown",
   "metadata": {
    "slideshow": {
     "slide_type": "slide"
    }
   },
   "source": [
    "# Origen de Julia\n",
    "\n",
    "- Desarrollado por varios estudiantes de Doctorado del MIT desde 2009, primera versión pública en 2012.\n",
    "- Versión 1.0 en Agosto de 2018.\n",
    "    - Más de 2 millones de descargas, estimado medio millón de usuarios habituales.\n",
    "    - 750 han subido commit (yo incluído).\n",
    "    - +2400 paquetes, algunos de mucha calidad."
   ]
  },
  {
   "cell_type": "markdown",
   "metadata": {
    "slideshow": {
     "slide_type": "slide"
    }
   },
   "source": [
    "# Motivo de Julia\n"
   ]
  },
  {
   "cell_type": "markdown",
   "metadata": {
    "slideshow": {
     "slide_type": "fragment"
    }
   },
   "source": [
    "## Evitar el problema del doble lenguaje\n",
    "\n",
    "- Uno sencillo para flexibilidad, pero lento. \n",
    "- Uno complejo pero rápido."
   ]
  },
  {
   "cell_type": "markdown",
   "metadata": {
    "slideshow": {
     "slide_type": "subslide"
    }
   },
   "source": [
    "<center><img src=\"figs/julia_vs_others.png\"/></center>"
   ]
  },
  {
   "cell_type": "markdown",
   "metadata": {
    "slideshow": {
     "slide_type": "slide"
    }
   },
   "source": [
    "# Librerías de Referencia"
   ]
  },
  {
   "cell_type": "markdown",
   "metadata": {
    "slideshow": {
     "slide_type": "subslide"
    }
   },
   "source": [
    "# Comunidad Científica\n",
    "\n",
    "Librerías/Paquetes populares en: [https://pkg.julialang.org/docs/](https://pkg.julialang.org/docs/)\n",
    "\n",
    "- Notebook: [IJulia](https://pkg.julialang.org/docs/IJulia/nfu7T/1.20.2/)\n",
    "- Científico: [QueryVerse](https://www.queryverse.org/)\n",
    "    - Librería DataFrames: [DataFrames.jl](https://github.com/JuliaData/DataFrames.jl)\n",
    "    - Visualización: [VegaLite](https://www.queryverse.org/VegaLite.jl/stable/)\n",
    "- Visualización: [Gadfly](https://gadflyjl.org/stable/tutorial/), [Plots](https://docs.juliaplots.org/latest/tutorial/#tutorial-1), [StatsPlots](https://github.com/JuliaPlots/StatsPlots.jl)\n",
    "- Librerías de Deep Learning: [Flux.jl](https://fluxml.ai/), [KNet.jl](https://github.com/denizyuret/Knet.jl).\n"
   ]
  },
  {
   "cell_type": "markdown",
   "metadata": {
    "slideshow": {
     "slide_type": "subslide"
    }
   },
   "source": [
    "# Comunidad científica\n",
    "\n",
    "## Librerías del Estado del Arte\n",
    "- Librería de optimización: [JuMP](https://pkg.julialang.org/docs/JuMP/DmXqY/0.20.1/quickstart.html#Quick-Start-Guide-1)\n",
    "- Ecuaciones Diferenciales: [DifferentialEquations](https://docs.juliadiffeq.org/latest/)\n",
    "- Librerías estadística: [Distributions](https://juliastats.org/Distributions.jl/latest/starting/)\n",
    "\n",
    "## Más genéricas\n",
    "- Páginas web: [Genie](https://genieframework.github.io/Genie.jl/)\n",
    "- Base de Datos: [Octo](https://github.com/wookay/Octo.jl)"
   ]
  },
  {
   "cell_type": "markdown",
   "metadata": {
    "slideshow": {
     "slide_type": "slide"
    }
   },
   "source": [
    "# Benchmarks"
   ]
  },
  {
   "cell_type": "markdown",
   "metadata": {
    "slideshow": {
     "slide_type": "subslide"
    }
   },
   "source": [
    "# Ejemplo sencillo"
   ]
  },
  {
   "cell_type": "code",
   "execution_count": 29,
   "metadata": {
    "slideshow": {
     "slide_type": "fragment"
    }
   },
   "outputs": [
    {
     "data": {
      "text/plain": [
       "smallestdivisall (generic function with 1 method)"
      ]
     },
     "execution_count": 29,
     "metadata": {},
     "output_type": "execute_result"
    }
   ],
   "source": [
    "function smallestdivisall(n::Int64)\n",
    "    for i = 1:factorial(n)\n",
    "        for j = 1:n\n",
    "            if i % j !=0  \n",
    "                break\n",
    "            elseif j == n\n",
    "                return i\n",
    "            end\n",
    "        end\n",
    "    end\n",
    "end\n"
   ]
  },
  {
   "cell_type": "markdown",
   "metadata": {
    "slideshow": {
     "slide_type": "subslide"
    }
   },
   "source": [
    "# Resultados\n",
    "\n",
    "<center><img src=\"figs/jit-comparison.png\"/></center>\n",
    "\n",
    "Fuente: https://randyzwitch.com/python-pypy-julia-r-pqr-jit-just-in-time-compiler/\n"
   ]
  },
  {
   "cell_type": "markdown",
   "metadata": {
    "slideshow": {
     "slide_type": "subslide"
    }
   },
   "source": [
    "### Benchmarks de funciones comunes\n",
    "\n",
    "Rápidamente: Los tiempos de Julia son semejantes a los de C, Matlab/Python/R son órdenes de magnitud más lentos <center><img style=\"float:left\" src=\"figs/benchmarks.png\"/></center>"
   ]
  }
 ],
 "metadata": {
  "@webio": {
   "lastCommId": null,
   "lastKernelId": null
  },
  "celltoolbar": "Slideshow",
  "kernelspec": {
   "display_name": "Julia 1.2.0",
   "language": "julia",
   "name": "julia-1.2"
  },
  "language_info": {
   "file_extension": ".jl",
   "mimetype": "application/julia",
   "name": "julia",
   "version": "1.2.0"
  }
 },
 "nbformat": 4,
 "nbformat_minor": 2
}
