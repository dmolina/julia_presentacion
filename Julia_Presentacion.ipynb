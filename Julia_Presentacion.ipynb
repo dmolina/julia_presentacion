{
 "cells": [
  {
   "cell_type": "code",
   "execution_count": 73,
   "metadata": {
    "slideshow": {
     "slide_type": "skip"
    }
   },
   "outputs": [],
   "source": [
    "using Revise\n",
    "using BenchmarkTools"
   ]
  },
  {
   "cell_type": "markdown",
   "metadata": {
    "slideshow": {
     "slide_type": "slide"
    }
   },
   "source": [
    "# <center>Introducción a</center>\n",
    "<center><a href=\"http://julialang.org/\" target=\"_blank\"><img src=\"figs/julia_logo_small.png\"/></a>\n",
    "<center><a href=\"http://julialang.org/\" target=\"_blank\">http://julialang.org/</a>\n",
    "\n"
   ]
  },
  {
   "cell_type": "markdown",
   "metadata": {
    "slideshow": {
     "slide_type": "fragment"
    }
   },
   "source": [
    "### <center>Daniel Molina Cabrera</center> <br><center><a href=\"mailto:dmolina@decsai.ugr.es\">dmolina@decsai.ugr.es</a></center>"
   ]
  },
  {
   "cell_type": "markdown",
   "metadata": {
    "slideshow": {
     "slide_type": "slide"
    }
   },
   "source": [
    "### Sobre mí\n",
    "\n",
    "<center><img src=\"figs/yo_serio.png\" style=\"float: left; margin-right: 1em\" width=\"25%\"/></center>\n",
    "\n",
    "<div>\n",
    "    <h4>Profesor de Dpto Ciencias de la Computación e Inteligencia Artificial</h4>\n",
    "    <h3>Intereses</h3>\n",
    "    <ul>\n",
    "        <li>Meta-heurísticas</li>\n",
    "        <li>Machine Learning</li>\n",
    "        <li>Desarrollo de Software</li>\n",
    "    </ul>\n",
    "</div>"
   ]
  },
  {
   "cell_type": "markdown",
   "metadata": {
    "slideshow": {
     "slide_type": "slide"
    }
   },
   "source": [
    "### Sobre mí\n",
    "\n",
    "<center><img src=\"figs/yo_indiana.jpg\" style=\"float: left; margin-right: 1em\" width=\"30%\"/></center>\n",
    "\n",
    "<div>\n",
    "    <h4>Convencido del Software Libre</h4>\n",
    "    <h3>Intereses <em>frikis</em></h3>\n",
    "    <ul>\n",
    "        <li>Linuxero convencido.</li>\n",
    "        <li>Aficionado a Emacs.</li>\n",
    "        <li><em>Pythonero</em> y últimamente <em>Julianero</em></li>\n",
    "    </ul>\n",
    "</div>"
   ]
  },
  {
   "cell_type": "markdown",
   "metadata": {
    "slideshow": {
     "slide_type": "slide"
    }
   },
   "source": [
    "# ¿Qué es Julia?"
   ]
  },
  {
   "cell_type": "markdown",
   "metadata": {
    "slideshow": {
     "slide_type": "subslide"
    }
   },
   "source": [
    "# Motivación de Julia en 2009\n",
    "\n",
    "> We want a language that’s **open source**, with a liberal license. We want **the speed of C** with the **dynamism of Ruby**. We want a language that’s homoiconic, with true macros like Lisp, but with obvious, **familiar mathematical notation like Matlab**. We want something as usable for **general programming as Python**, **as  easy for statistics as R**, as natural for string processing as Perl, as **powerful for linear algebra as Matlab**, as good at gluing programs together as the shell. Something that is dirt simple to learn, yet keeps the most serious hackers happy. We want it **interactive** and we want **it compiled**.\n",
    "\n",
    "> (Did we mention it should be as fast as C?)"
   ]
  },
  {
   "cell_type": "markdown",
   "metadata": {
    "slideshow": {
     "slide_type": "subslide"
    }
   },
   "source": [
    "# Por tanto\n",
    "\n",
    "- Es un Lenguaje Software Libre. \n",
    "- De propósito general, pero hecho por y para científicos. \n",
    "- Eficiente (no interpreta las funciones, las compila y ejecuta).\n",
    "- Muy similar a Python.\n"
   ]
  },
  {
   "cell_type": "markdown",
   "metadata": {
    "slideshow": {
     "slide_type": "subslide"
    }
   },
   "source": [
    "# Código en Python _vs_ Julia\n",
    "```python\n",
    "def fib(n):\n",
    "    if n <= 1:\n",
    "        return 1\n",
    "    else:\n",
    "        return fib(n-1)+fib(n-2)\n",
    "    \n",
    "%time fib(40)```\n"
   ]
  },
  {
   "cell_type": "code",
   "execution_count": null,
   "metadata": {},
   "outputs": [],
   "source": []
  },
  {
   "cell_type": "markdown",
   "metadata": {
    "slideshow": {
     "slide_type": "subslide"
    }
   },
   "source": [
    "\n",
    "<center><img src=\"figs/julia_nature.png\"></center>"
   ]
  },
  {
   "cell_type": "markdown",
   "metadata": {
    "slideshow": {
     "slide_type": "slide"
    }
   },
   "source": [
    "# Evolución de Julia"
   ]
  },
  {
   "cell_type": "markdown",
   "metadata": {
    "slideshow": {
     "slide_type": "subslide"
    }
   },
   "source": [
    "# Origen de Julia\n",
    "\n",
    "- Desarrollado por varios estudiantes de Doctorado del MIT desde 2009, primera versión pública en 2012.\n",
    "- Versión 1.0 en Agosto de 2018.\n",
    "    - Más de 2 millones de descargas, estimado medio millón de usuarios habituales.\n",
    "    - 750 han subido commit (yo incluído).\n",
    "    - +2400 paquetes, algunos de mucha calidad."
   ]
  },
  {
   "cell_type": "markdown",
   "metadata": {
    "slideshow": {
     "slide_type": "subslide"
    }
   },
   "source": [
    "# Recientes Hitos de Julia\n",
    "\n",
    "- Sistema de Paquetes a Final de 2018.\n",
    "- Reescrito depurador en 2019."
   ]
  },
  {
   "cell_type": "markdown",
   "metadata": {
    "slideshow": {
     "slide_type": "fragment"
    }
   },
   "source": [
    "# Futuros cambios\n",
    "\n",
    "- Versión 1.3 con mejor soporte de hebras (Release).\n",
    "- Mejorar la carga de librerías en Versión 1.4.\n",
    "- Permitir crear ejecutables."
   ]
  },
  {
   "cell_type": "markdown",
   "metadata": {
    "slideshow": {
     "slide_type": "slide"
    }
   },
   "source": [
    "# Motivo de Julia\n"
   ]
  },
  {
   "cell_type": "markdown",
   "metadata": {
    "slideshow": {
     "slide_type": "fragment"
    }
   },
   "source": [
    "## Evitar el problema del doble lenguaje\n",
    "\n",
    "- Uno sencillo para flexibilidad, pero lento. \n",
    "- Uno complejo pero rápido."
   ]
  },
  {
   "cell_type": "markdown",
   "metadata": {
    "slideshow": {
     "slide_type": "subslide"
    }
   },
   "source": [
    "<center> <img src=\"figs/two2.png\"></center>"
   ]
  },
  {
   "cell_type": "markdown",
   "metadata": {
    "slideshow": {
     "slide_type": "subslide"
    }
   },
   "source": [
    "# No tiene por qué ser asi"
   ]
  },
  {
   "cell_type": "markdown",
   "metadata": {
    "slideshow": {
     "slide_type": "subslide"
    }
   },
   "source": [
    "### <center>Algunos Benchmarks</center>\n",
    "\n",
    "<center><img src=\"figs/benchmarks.png\" width=\"80%\"/></center>"
   ]
  },
  {
   "cell_type": "markdown",
   "metadata": {
    "slideshow": {
     "slide_type": "subslide"
    }
   },
   "source": [
    "# Resultados\n",
    "\n",
    "<center><img src=\"figs/jit-comparison.png\"/></center>\n",
    "\n",
    "Fuente: https://randyzwitch.com/python-pypy-julia-r-pqr-jit-just-in-time-compiler/\n"
   ]
  },
  {
   "cell_type": "markdown",
   "metadata": {
    "slideshow": {
     "slide_type": "subslide"
    }
   },
   "source": [
    "<center><img src=\"figs/julia_vs_others.png\"/></center>"
   ]
  },
  {
   "cell_type": "markdown",
   "metadata": {
    "slideshow": {
     "slide_type": "subslide"
    }
   },
   "source": [
    "# El objetivo es simplificar la vida"
   ]
  },
  {
   "cell_type": "markdown",
   "metadata": {
    "slideshow": {
     "slide_type": "subslide"
    }
   },
   "source": [
    "<center> <img src=\"figs/two1.png\"></center>"
   ]
  },
  {
   "cell_type": "markdown",
   "metadata": {
    "slideshow": {
     "slide_type": "subslide"
    }
   },
   "source": [
    "<center> <img src=\"figs/two3.png\"></center>"
   ]
  },
  {
   "cell_type": "markdown",
   "metadata": {
    "slideshow": {
     "slide_type": "subslide"
    }
   },
   "source": [
    "# Mi caso es parecido\n",
    "\n",
    "- Trabajo en Metaheurísticas en problemas complejos.\n",
    "- La mayoría usa Matlab, yo Python."
   ]
  },
  {
   "cell_type": "markdown",
   "metadata": {
    "slideshow": {
     "slide_type": "fragment"
    }
   },
   "source": [
    "## Ejecutando código externo\n",
    "\n",
    "- Pasado en Matlab, problemas de licencia.\n",
    "- Ejecutar en Octave supone tardar mucho más. \n",
    "- Pasarlo a Python es conflictivo:\n",
    "    - Sintaxis distinta.\n",
    "    - Posibles problemas: En Matlab índices desde 1, en Python por 0. \n",
    "    - En Python es necesario usar numpy, sintaxis más alejada de Matlab."
   ]
  },
  {
   "cell_type": "markdown",
   "metadata": {
    "slideshow": {
     "slide_type": "subslide"
    }
   },
   "source": [
    "### Proceso de mis algoritmos\n",
    "\n",
    "- Python para prototipado.\n",
    "- Numpy para rendimiento.\n",
    "- Evitar condiciones, usar operaciones vectorizadas.\n",
    "- Identificar cuellos de botella.\n",
    "- A veces C++ para reimplementar esas partes (Cython).\n"
   ]
  },
  {
   "cell_type": "markdown",
   "metadata": {
    "slideshow": {
     "slide_type": "fragment"
    }
   },
   "source": [
    "### Usando Julia\n",
    "\n",
    "- No es necesario Numpy ni cython.\n",
    "- Librerías sólo disponibles en Python usando PyCall.\n",
    "- Más fácil llamar código C/C++ que desde Python."
   ]
  },
  {
   "cell_type": "markdown",
   "metadata": {
    "slideshow": {
     "slide_type": "slide"
    }
   },
   "source": [
    "# Comparando Julia con Python"
   ]
  },
  {
   "cell_type": "markdown",
   "metadata": {
    "slideshow": {
     "slide_type": "subslide"
    }
   },
   "source": [
    "## Semejanzas\n",
    "\n",
    "- Sintaxis muy similar.\n",
    "- Entorno Interactivo (REPL) como IPython."
   ]
  },
  {
   "cell_type": "markdown",
   "metadata": {
    "slideshow": {
     "slide_type": "fragment"
    }
   },
   "source": [
    "<center><img src=\"figs/repl.png\"></center>\n"
   ]
  },
  {
   "cell_type": "markdown",
   "metadata": {
    "slideshow": {
     "slide_type": "fragment"
    }
   },
   "source": [
    "- Modo Julia, por defecto.\n",
    "- Modo Package \\[, para buscar y gestionar paquetes.\n",
    "- Modo Shell \\; para ejecutar comandos.\n",
    "\n",
    "Vamos a verlo."
   ]
  },
  {
   "cell_type": "markdown",
   "metadata": {
    "slideshow": {
     "slide_type": "subslide"
    }
   },
   "source": [
    "# Repositorio Oficial de Paquetes"
   ]
  },
  {
   "cell_type": "code",
   "execution_count": 2,
   "metadata": {
    "slideshow": {
     "slide_type": "fragment"
    }
   },
   "outputs": [
    {
     "name": "stdout",
     "output_type": "stream",
     "text": [
      "\u001b[32m\u001b[1m  Updating\u001b[22m\u001b[39m registry at `~/.julia/registries/General`\n",
      "\u001b[32m\u001b[1m  Updating\u001b[22m\u001b[39m git-repo `https://github.com/JuliaRegistries/General.git`\n",
      "\u001b[2K\u001b[?25h[1mFetching:\u001b[22m\u001b[39m [========================================>]  100.0 %.0 %\u001b[32m\u001b[1m Resolving\u001b[22m\u001b[39m package versions...\n",
      "\u001b[32m\u001b[1m  Updating\u001b[22m\u001b[39m `~/.julia/environments/v1.2/Project.toml`\n",
      "\u001b[90m [no changes]\u001b[39m\n",
      "\u001b[32m\u001b[1m  Updating\u001b[22m\u001b[39m `~/.julia/environments/v1.2/Manifest.toml`\n",
      "\u001b[90m [no changes]\u001b[39m\n"
     ]
    }
   ],
   "source": [
    "using Pkg\n",
    "Pkg.add(\"OhMyREPL\")"
   ]
  },
  {
   "cell_type": "code",
   "execution_count": 3,
   "metadata": {
    "slideshow": {
     "slide_type": "fragment"
    }
   },
   "outputs": [],
   "source": [
    "using OhMyREPL"
   ]
  },
  {
   "cell_type": "markdown",
   "metadata": {
    "slideshow": {
     "slide_type": "subslide"
    }
   },
   "source": [
    "# Más semejanzas con Python\n",
    "\n",
    "- Uso de paquetes, importa con **import** o con **using**. \n",
    "- Sistema de tests automáticos."
   ]
  },
  {
   "cell_type": "code",
   "execution_count": 4,
   "metadata": {},
   "outputs": [
    {
     "data": {
      "text/plain": [
       "3-element Array{Float64,1}:\n",
       " -3.9072927729655538\n",
       " -4.103617780649939 \n",
       "  4.652310420511977 "
      ]
     },
     "execution_count": 4,
     "metadata": {},
     "output_type": "execute_result"
    }
   ],
   "source": [
    "import Distributions\n",
    "rand(Distributions.Uniform(-5, 5), 3)"
   ]
  },
  {
   "cell_type": "code",
   "execution_count": 5,
   "metadata": {},
   "outputs": [
    {
     "data": {
      "text/plain": [
       "3-element Array{Float64,1}:\n",
       " -1.7376596774291264\n",
       "  2.277523569834181 \n",
       "  4.336852103441629 "
      ]
     },
     "execution_count": 5,
     "metadata": {},
     "output_type": "execute_result"
    }
   ],
   "source": [
    "using Distributions: Uniform \n",
    "rand(Uniform(-5, 5), 3)"
   ]
  },
  {
   "cell_type": "code",
   "execution_count": 6,
   "metadata": {},
   "outputs": [
    {
     "data": {
      "text/plain": [
       "3-element Array{Float64,1}:\n",
       " -0.5128874724794734\n",
       "  1.861680261356879 \n",
       " -1.7341530042303988"
      ]
     },
     "execution_count": 6,
     "metadata": {},
     "output_type": "execute_result"
    }
   ],
   "source": [
    "using Distributions\n",
    "rand(Uniform(-5, 5), 3)"
   ]
  },
  {
   "cell_type": "markdown",
   "metadata": {
    "slideshow": {
     "slide_type": "subslide"
    }
   },
   "source": [
    "# Semejanzas en la sintaxis\n",
    "\n",
    "- No hace falta definir variables.\n",
    "- Vectores son referencias.\n",
    "- Manejo de iteradores (for, enumerate, zip, ...). \n",
    "- Uso de funciones lambda. "
   ]
  },
  {
   "cell_type": "code",
   "execution_count": 7,
   "metadata": {},
   "outputs": [
    {
     "name": "stdout",
     "output_type": "stream",
     "text": [
      "[1 2 3]\n",
      "3\n"
     ]
    },
    {
     "data": {
      "text/plain": [
       "1-element Array{String,1}:\n",
       " \"usuario2\""
      ]
     },
     "execution_count": 7,
     "metadata": {},
     "output_type": "execute_result"
    }
   ],
   "source": [
    "var = [1 2 3]\n",
    "println(var)\n",
    "var = 3\n",
    "println(var)\n",
    "filter(x->x[end]=='2', [\"usuario$i\" for i in 1:3])"
   ]
  },
  {
   "cell_type": "markdown",
   "metadata": {
    "slideshow": {
     "slide_type": "subslide"
    }
   },
   "source": [
    "# Estructuras de Datos en el lenguaje\n",
    "\n",
    "- Arrays, dentro del propio lenguaje.\n",
    "- String, UTF-8.\n",
    "- Diccionarios.\n",
    "- Conjuntos."
   ]
  },
  {
   "cell_type": "code",
   "execution_count": 19,
   "metadata": {},
   "outputs": [
    {
     "data": {
      "text/plain": [
       "Dict{Int64,String} with 3 entries:\n",
       "  2 => \"Dos\"\n",
       "  3 => \"Tres\"\n",
       "  1 => \"Uno\""
      ]
     },
     "execution_count": 19,
     "metadata": {},
     "output_type": "execute_result"
    }
   ],
   "source": [
    "dict = Dict(i=>val for (i, val) in enumerate(values))"
   ]
  },
  {
   "cell_type": "code",
   "execution_count": 20,
   "metadata": {},
   "outputs": [
    {
     "name": "stdout",
     "output_type": "stream",
     "text": [
      "[2, 3, 1]\n"
     ]
    }
   ],
   "source": [
    "println(keys(dict))"
   ]
  },
  {
   "cell_type": "code",
   "execution_count": 21,
   "metadata": {},
   "outputs": [
    {
     "data": {
      "text/plain": [
       "3-element Array{Int64,1}:\n",
       " 4\n",
       " 2\n",
       " 1"
      ]
     },
     "execution_count": 21,
     "metadata": {},
     "output_type": "execute_result"
    }
   ],
   "source": [
    "collect(Set([1, 2, 4, 2, 4]))"
   ]
  },
  {
   "cell_type": "markdown",
   "metadata": {
    "slideshow": {
     "slide_type": "subslide"
    }
   },
   "source": [
    "# Diferencias en la sintaxis\n",
    "\n",
    "- _def_ => _function_ (como Matlab).\n",
    "- No usa tabulador para distinguir, usa **end**. \n",
    "- Lo bueno es que no tiene begin, y el _end_ es reducido (no antes de un else, por ejemplo)."
   ]
  },
  {
   "cell_type": "code",
   "execution_count": 8,
   "metadata": {},
   "outputs": [
    {
     "name": "stdout",
     "output_type": "stream",
     "text": [
      "fibo(40) = 165580141\n",
      "  0.055617 seconds (76.74 k allocations: 3.880 MiB)\n"
     ]
    },
    {
     "data": {
      "text/plain": [
       "165580141"
      ]
     },
     "execution_count": 8,
     "metadata": {},
     "output_type": "execute_result"
    }
   ],
   "source": [
    "function fibo(n::Int)\n",
    "    (a, b) = (1, 1)\n",
    "    \n",
    "    for _ in 1:n-1\n",
    "        (a, b) = (a+b, a)   \n",
    "        end\n",
    "    a\n",
    "end\n",
    "@time @show fibo(40)"
   ]
  },
  {
   "cell_type": "markdown",
   "metadata": {
    "slideshow": {
     "slide_type": "subslide"
    }
   },
   "source": [
    "# Tipos opcionales\n",
    "- No es necesario, él deduce cuando se llama al método.\n",
    "- Existen tipos genéricos, útiles para evitar errores (Int, Float, Real, Number, AbstractString, ...)."
   ]
  },
  {
   "cell_type": "code",
   "execution_count": 9,
   "metadata": {},
   "outputs": [
    {
     "ename": "MethodError",
     "evalue": "MethodError: no method matching sphere(::Int64)\nClosest candidates are:\n  sphere(!Matched::AbstractArray) at In[9]:1",
     "output_type": "error",
     "traceback": [
      "MethodError: no method matching sphere(::Int64)\nClosest candidates are:\n  sphere(!Matched::AbstractArray) at In[9]:1",
      "",
      "Stacktrace:",
      " [1] top-level scope at In[9]:2"
     ]
    }
   ],
   "source": [
    "sphere(x::AbstractArray)= sum(x.^2)\n",
    "sphere(3)"
   ]
  },
  {
   "cell_type": "code",
   "execution_count": 10,
   "metadata": {},
   "outputs": [
    {
     "data": {
      "text/plain": [
       "50"
      ]
     },
     "execution_count": 10,
     "metadata": {},
     "output_type": "execute_result"
    }
   ],
   "source": [
    "sphere([3, 4, 5])"
   ]
  },
  {
   "cell_type": "markdown",
   "metadata": {
    "slideshow": {
     "slide_type": "subslide"
    }
   },
   "source": [
    "# Es eficiente porque se compila según el tipo concreto"
   ]
  },
  {
   "cell_type": "code",
   "execution_count": 11,
   "metadata": {},
   "outputs": [
    {
     "name": "stdout",
     "output_type": "stream",
     "text": [
      "Variables\n",
      "  #self#\u001b[36m::Core.Compiler.Const(sphere, false)\u001b[39m\n",
      "  x\u001b[36m::Array{Int64,1}\u001b[39m\n",
      "\n",
      "Body\u001b[36m::Int64\u001b[39m\n",
      "\u001b[90m1 ─\u001b[39m %1 = Core.apply_type(Base.Val, 2)\u001b[36m::Core.Compiler.Const(Val{2}, false)\u001b[39m\n",
      "\u001b[90m│  \u001b[39m %2 = (%1)()\u001b[36m::Core.Compiler.Const(Val{2}(), false)\u001b[39m\n",
      "\u001b[90m│  \u001b[39m %3 = Base.broadcasted(Base.literal_pow, Main.:^, x, %2)\u001b[36m::Base.Broadcast.Broadcasted{Base.Broadcast.DefaultArrayStyle{1},Nothing,typeof(Base.literal_pow),Tuple{Base.RefValue{typeof(^)},Array{Int64,1},Base.RefValue{Val{2}}}}\u001b[39m\n",
      "\u001b[90m│  \u001b[39m %4 = Base.materialize(%3)\u001b[36m::Array{Int64,1}\u001b[39m\n",
      "\u001b[90m│  \u001b[39m %5 = Main.sum(%4)\u001b[36m::Int64\u001b[39m\n",
      "\u001b[90m└──\u001b[39m      return %5\n"
     ]
    }
   ],
   "source": [
    "@code_warntype sphere([3, 4, 5])"
   ]
  },
  {
   "cell_type": "markdown",
   "metadata": {
    "slideshow": {
     "slide_type": "subslide"
    }
   },
   "source": [
    "# Es eficiente porque se compila según el tipo concreto"
   ]
  },
  {
   "cell_type": "code",
   "execution_count": 12,
   "metadata": {},
   "outputs": [],
   "source": [
    "fabsurda(x)=x^2+3;  "
   ]
  },
  {
   "cell_type": "code",
   "execution_count": 13,
   "metadata": {},
   "outputs": [
    {
     "name": "stdout",
     "output_type": "stream",
     "text": [
      "Variables\n",
      "  #self#\u001b[36m::Core.Compiler.Const(fabsurda, false)\u001b[39m\n",
      "  x\u001b[36m::Int64\u001b[39m\n",
      "\n",
      "Body\u001b[36m::Int64\u001b[39m\n",
      "\u001b[90m1 ─\u001b[39m %1 = Core.apply_type(Base.Val, 2)\u001b[36m::Core.Compiler.Const(Val{2}, false)\u001b[39m\n",
      "\u001b[90m│  \u001b[39m %2 = (%1)()\u001b[36m::Core.Compiler.Const(Val{2}(), false)\u001b[39m\n",
      "\u001b[90m│  \u001b[39m %3 = Base.literal_pow(Main.:^, x, %2)\u001b[36m::Int64\u001b[39m\n",
      "\u001b[90m│  \u001b[39m %4 = (%3 + 3)\u001b[36m::Int64\u001b[39m\n",
      "\u001b[90m└──\u001b[39m      return %4\n"
     ]
    }
   ],
   "source": [
    "@code_warntype fabsurda(3)"
   ]
  },
  {
   "cell_type": "code",
   "execution_count": 14,
   "metadata": {
    "slideshow": {
     "slide_type": "subslide"
    }
   },
   "outputs": [
    {
     "name": "stdout",
     "output_type": "stream",
     "text": [
      "Variables\n",
      "  #self#\u001b[36m::Core.Compiler.Const(fabsurda, false)\u001b[39m\n",
      "  x\u001b[36m::Float64\u001b[39m\n",
      "\n",
      "Body\u001b[36m::Float64\u001b[39m\n",
      "\u001b[90m1 ─\u001b[39m %1 = Core.apply_type(Base.Val, 2)\u001b[36m::Core.Compiler.Const(Val{2}, false)\u001b[39m\n",
      "\u001b[90m│  \u001b[39m %2 = (%1)()\u001b[36m::Core.Compiler.Const(Val{2}(), false)\u001b[39m\n",
      "\u001b[90m│  \u001b[39m %3 = Base.literal_pow(Main.:^, x, %2)\u001b[36m::Float64\u001b[39m\n",
      "\u001b[90m│  \u001b[39m %4 = (%3 + 3)\u001b[36m::Float64\u001b[39m\n",
      "\u001b[90m└──\u001b[39m      return %4\n"
     ]
    }
   ],
   "source": [
    "@code_warntype fabsurda(3.3)"
   ]
  },
  {
   "cell_type": "code",
   "execution_count": 15,
   "metadata": {
    "slideshow": {
     "slide_type": "fragment"
    }
   },
   "outputs": [
    {
     "name": "stdout",
     "output_type": "stream",
     "text": [
      "\n",
      ";  @ In[12]:1 within `fabsurda'\n",
      "define i64 @julia_fabsurda_17187(i64) {\n",
      "top:\n",
      "; ┌ @ intfuncs.jl:244 within `literal_pow'\n",
      "; │┌ @ int.jl:54 within `*'\n",
      "    %1 = mul i64 %0, %0\n",
      "; └└\n",
      "; ┌ @ int.jl:53 within `+'\n",
      "   %2 = add i64 %1, 3\n",
      "; └\n",
      "  ret i64 %2\n",
      "}\n"
     ]
    }
   ],
   "source": [
    "@code_llvm fabsurda(3)"
   ]
  },
  {
   "cell_type": "markdown",
   "metadata": {
    "slideshow": {
     "slide_type": "subslide"
    }
   },
   "source": [
    "# Diferente inicio del índice\n",
    "- Empieza en 1, no en 0. \n",
    "\n",
    "No es tan problemático, se suele usar iterador y/o enumerate."
   ]
  },
  {
   "cell_type": "code",
   "execution_count": 16,
   "metadata": {},
   "outputs": [
    {
     "name": "stdout",
     "output_type": "stream",
     "text": [
      "1: Uno\n",
      "2: Dos\n",
      "3: Tres\n",
      "--------\n",
      "1: Uno\n",
      "2: Dos\n",
      "3: Tres\n"
     ]
    }
   ],
   "source": [
    "values = [\"Uno\", \"Dos\", \"Tres\"]\n",
    "\n",
    "for i = 1:length(values)\n",
    "    println(\"$i: \", values[i])\n",
    "end\n",
    "println(\"-\"^8)    \n",
    "for (i, val) in enumerate(values)\n",
    "    println(\"$i: $val\")\n",
    "end"
   ]
  },
  {
   "cell_type": "markdown",
   "metadata": {
    "slideshow": {
     "slide_type": "subslide"
    }
   },
   "source": [
    "# Modelo Funcional, no Orientado a Objetos\n",
    "\n",
    "- Los paquetes definen structuras y funciones sobre ellas.\n",
    "- Usando jerarquías de tipos se puede reutilizar código.\n",
    "- El Multiple Dispatch (redefinir métodos).\n",
    "    - Interfaz Table usado por múltiples implementaciones (DataFrames, ...).\n",
    "- Interfaz funcional.\n",
    "- Operador |> Permite encadenar operaciones."
   ]
  },
  {
   "cell_type": "code",
   "execution_count": 17,
   "metadata": {},
   "outputs": [
    {
     "name": "stdout",
     "output_type": "stream",
     "text": [
      "HOLA\n",
      "HOLA\n"
     ]
    }
   ],
   "source": [
    "msg = \"Hola\"\n",
    "println(uppercase(msg))\n",
    "msg |> uppercase |> println"
   ]
  },
  {
   "cell_type": "code",
   "execution_count": 29,
   "metadata": {
    "slideshow": {
     "slide_type": "subslide"
    }
   },
   "outputs": [
    {
     "name": "stdout",
     "output_type": "stream",
     "text": [
      "Mi println: 4: Hola\n"
     ]
    }
   ],
   "source": [
    "struct MyData\n",
    "    n::Int64\n",
    "    s::String\n",
    "end\n",
    "\n",
    "using Base: println\n",
    "\n",
    "function Base.println(io::IO, v::MyData)\n",
    "    println(io, \"Mi println: \", string(v.n), \": \", v.s)\n",
    "end\n",
    "\n",
    "data = MyData(4, \"Hola\")\n",
    "println(data)"
   ]
  },
  {
   "cell_type": "markdown",
   "metadata": {
    "slideshow": {
     "slide_type": "subslide"
    }
   },
   "source": [
    "# Flexible\n",
    "\n",
    "## Se puede personalizar"
   ]
  },
  {
   "cell_type": "code",
   "execution_count": 30,
   "metadata": {},
   "outputs": [
    {
     "ename": "ErrorException",
     "evalue": "use occursin(x, y) for string containment",
     "output_type": "error",
     "traceback": [
      "use occursin(x, y) for string containment",
      "",
      "Stacktrace:",
      " [1] error(::String) at ./error.jl:33",
      " [2] in(::String, ::String) at ./strings/search.jl:455",
      " [3] top-level scope at In[30]:1"
     ]
    }
   ],
   "source": [
    "\"a\" in \"hola\""
   ]
  },
  {
   "cell_type": "code",
   "execution_count": 31,
   "metadata": {},
   "outputs": [
    {
     "data": {
      "text/plain": [
       "true"
      ]
     },
     "execution_count": 31,
     "metadata": {},
     "output_type": "execute_result"
    }
   ],
   "source": [
    "using Base: in\n",
    "\n",
    "Base.in(a::AbstractString, b::AbstractString) = occursin(a, b)\n",
    "\n",
    "\"a\" in \"hola\""
   ]
  },
  {
   "cell_type": "markdown",
   "metadata": {
    "slideshow": {
     "slide_type": "subslide"
    }
   },
   "source": [
    "## Macros\n",
    "\n",
    "- Empiezan por @.\n",
    "- Permiten generar código.\n"
   ]
  },
  {
   "cell_type": "code",
   "execution_count": 34,
   "metadata": {},
   "outputs": [
    {
     "name": "stdout",
     "output_type": "stream",
     "text": [
      "  0.000196 seconds (654 allocations: 33.922 KiB)\n",
      "  0.000001 seconds (3 allocations: 144 bytes)\n"
     ]
    }
   ],
   "source": [
    "# using a veces tarda, creo una macro para sólo hacerlo si no está ya en memoria\n",
    "macro load(x)\n",
    "    if !(x in names(Main, all=false, imported=true))\n",
    "        return :(using $x)\n",
    "    end\n",
    "end\n",
    "\n",
    "@time using OhMyREPL\n",
    "@time @load OhMyREPL\n"
   ]
  },
  {
   "cell_type": "markdown",
   "metadata": {
    "slideshow": {
     "slide_type": "subslide"
    }
   },
   "source": [
    "# Operador Punto\n",
    "\n",
    "- Permite vectorizar cualquier función. \n",
    "- Permite operaciones más eficientes."
   ]
  },
  {
   "cell_type": "code",
   "execution_count": 61,
   "metadata": {},
   "outputs": [
    {
     "name": "stdout",
     "output_type": "stream",
     "text": [
      "-4\n",
      "-1\n",
      "11\n"
     ]
    }
   ],
   "source": [
    "op(x) = x*x-5\n",
    "println.(op.([1, 2, 4]));"
   ]
  },
  {
   "cell_type": "markdown",
   "metadata": {
    "slideshow": {
     "slide_type": "subslide"
    }
   },
   "source": [
    "# Ejemplo más complejo"
   ]
  },
  {
   "cell_type": "code",
   "execution_count": 80,
   "metadata": {},
   "outputs": [],
   "source": [
    "A = rand(Uniform(-5, 5), 3000); B = rand(Uniform(-5, 5), 3000); "
   ]
  },
  {
   "cell_type": "code",
   "execution_count": 81,
   "metadata": {},
   "outputs": [
    {
     "name": "stdout",
     "output_type": "stream",
     "text": [
      "  782.695 ns (0 allocations: 0 bytes)\n"
     ]
    }
   ],
   "source": [
    "C = similar(A);\n",
    "function add1!(C, A, B)\n",
    "    C .= A .+ B\n",
    "end\n",
    "@btime add1!(C, A, B);"
   ]
  },
  {
   "cell_type": "code",
   "execution_count": 82,
   "metadata": {},
   "outputs": [
    {
     "name": "stdout",
     "output_type": "stream",
     "text": [
      "  791.527 ns (0 allocations: 0 bytes)\n"
     ]
    }
   ],
   "source": [
    "add2!(C, A, B) = @. C = A+B\n",
    "@btime add2!(C, A, B);"
   ]
  },
  {
   "cell_type": "code",
   "execution_count": 83,
   "metadata": {},
   "outputs": [
    {
     "name": "stdout",
     "output_type": "stream",
     "text": [
      "  792.897 ns (0 allocations: 0 bytes)\n"
     ]
    }
   ],
   "source": [
    "function add3!(C, A, B)\n",
    "@inbounds @simd for i in 1:length(A)\n",
    "    C[i] = A[i]+B[i]\n",
    "    end\n",
    "end\n",
    "\n",
    "@btime add3!(C, A, B)"
   ]
  },
  {
   "cell_type": "markdown",
   "metadata": {
    "slideshow": {
     "slide_type": "subslide"
    }
   },
   "source": [
    "# Uso de ficheros\n"
   ]
  },
  {
   "cell_type": "code",
   "execution_count": 22,
   "metadata": {},
   "outputs": [
    {
     "data": {
      "text/plain": [
       "4-element Array{String,1}:\n",
       " \"Estudiante1\"\n",
       " \"Estudiante3\"\n",
       " \"Estudiante5\"\n",
       " \"Estudiante7\""
      ]
     },
     "execution_count": 22,
     "metadata": {},
     "output_type": "execute_result"
    }
   ],
   "source": [
    "users = [\"Estudiante$(elem)\" for elem in 1:2:8]"
   ]
  },
  {
   "cell_type": "code",
   "execution_count": 23,
   "metadata": {},
   "outputs": [],
   "source": [
    "open(\"usuarios.txt\", \"w\") do file\n",
    "    for user in users\n",
    "        println(file, user)\n",
    "    end\n",
    "end"
   ]
  },
  {
   "cell_type": "code",
   "execution_count": 24,
   "metadata": {},
   "outputs": [
    {
     "name": "stdout",
     "output_type": "stream",
     "text": [
      "Estudiante1\n",
      "Estudiante3\n",
      "Estudiante5\n",
      "Estudiante7\n"
     ]
    }
   ],
   "source": [
    "open(\"usuarios.txt\") do file\n",
    "    for line in readlines(file)\n",
    "        println(strip(line))\n",
    "    end\n",
    "end"
   ]
  },
  {
   "cell_type": "markdown",
   "metadata": {
    "slideshow": {
     "slide_type": "subslide"
    }
   },
   "source": [
    "# Modo de Ayuda\n",
    "\n",
    "Uso de cadenas descriptivas para cada función. "
   ]
  },
  {
   "cell_type": "code",
   "execution_count": 25,
   "metadata": {},
   "outputs": [
    {
     "name": "stdout",
     "output_type": "stream",
     "text": [
      "fibo(40) = 165580141\n",
      "  0.015480 seconds (30.12 k allocations: 1.558 MiB)\n"
     ]
    },
    {
     "data": {
      "text/plain": [
       "165580141"
      ]
     },
     "execution_count": 25,
     "metadata": {},
     "output_type": "execute_result"
    }
   ],
   "source": [
    "\"\"\"\n",
    "Esta función permite calculo el número de fibonacci.\n",
    "\n",
    "n: Entero del cual calcular fibonacci.\n",
    "\"\"\"\n",
    "function fibo(n::Int)\n",
    "    (a, b) = (1, 1)\n",
    "    \n",
    "    for _ in 1:n-1\n",
    "        (a, b) = (a+b, a)\n",
    "    end\n",
    "    a\n",
    "end\n",
    "@time @show fibo(40)"
   ]
  },
  {
   "cell_type": "code",
   "execution_count": 26,
   "metadata": {
    "slideshow": {
     "slide_type": "subslide"
    }
   },
   "outputs": [
    {
     "name": "stdout",
     "output_type": "stream",
     "text": [
      "search: \u001b[0m\u001b[1mf\u001b[22m\u001b[0m\u001b[1mi\u001b[22m\u001b[0m\u001b[1mb\u001b[22m\u001b[0m\u001b[1mo\u001b[22m \u001b[0m\u001b[1mf\u001b[22ma\u001b[0m\u001b[1mi\u001b[22mlpro\u001b[0m\u001b[1mb\u001b[22m unsa\u001b[0m\u001b[1mf\u001b[22me_po\u001b[0m\u001b[1mi\u001b[22mnter_to_o\u001b[0m\u001b[1mb\u001b[22mjref\n",
      "\n"
     ]
    },
    {
     "data": {
      "text/latex": [
       "Esta función permite calculo el número de fibonacci.\n",
       "\n",
       "n: Entero del cual calcular fibonacci.\n",
       "\n"
      ],
      "text/markdown": [
       "Esta función permite calculo el número de fibonacci.\n",
       "\n",
       "n: Entero del cual calcular fibonacci.\n"
      ],
      "text/plain": [
       "  Esta función permite calculo el número de fibonacci.\n",
       "\n",
       "  n: Entero del cual calcular fibonacci."
      ]
     },
     "execution_count": 26,
     "metadata": {},
     "output_type": "execute_result"
    }
   ],
   "source": [
    "?fibo"
   ]
  },
  {
   "cell_type": "markdown",
   "metadata": {},
   "source": [
    "Se puede construir fácilmente la documentación, Paquete [Documenter.jl](https://juliadocs.github.io/Documenter.jl/stable/):\n",
    "- Usa Markdown para describirlo para los usuarios.\n",
    "- Permite añadir la documentación del API. \n",
    "- Usar ejemplos que sirven también de test. "
   ]
  },
  {
   "cell_type": "markdown",
   "metadata": {
    "slideshow": {
     "slide_type": "slide"
    }
   },
   "source": [
    "# Comunidad Científica\n",
    "\n",
    "Librerías/Paquetes populares en: [https://pkg.julialang.org/docs/](https://pkg.julialang.org/docs/)\n",
    "\n",
    "- Notebook: [IJulia](https://pkg.julialang.org/docs/IJulia/nfu7T/1.20.2/)\n",
    "- Científico: [QueryVerse](https://www.queryverse.org/)\n",
    "    - Librería DataFrames: [DataFrames.jl](https://github.com/JuliaData/DataFrames.jl)\n",
    "    - Visualización: [VegaLite](https://www.queryverse.org/VegaLite.jl/stable/)\n",
    "- Visualización: [Gadfly](https://gadflyjl.org/stable/tutorial/), [Plots](https://docs.juliaplots.org/latest/tutorial/#tutorial-1), [StatsPlots](https://github.com/JuliaPlots/StatsPlots.jl)\n",
    "- Librerías de Deep Learning: [Flux.jl](https://fluxml.ai/), [KNet.jl](https://github.com/denizyuret/Knet.jl).\n",
    "- Machine Learning: [ScikitLearn.jl](https://github.com/cstjean/ScikitLearn.jl), [MLJ](https://pkg.julialang.org/docs/MLJ/rAU56/0.5.4/) \n"
   ]
  },
  {
   "cell_type": "markdown",
   "metadata": {
    "slideshow": {
     "slide_type": "subslide"
    }
   },
   "source": [
    "# Comunidad científica\n",
    "\n",
    "## Librerías del Estado del Arte\n",
    "- Librería de optimización: [JuMP](https://pkg.julialang.org/docs/JuMP/DmXqY/0.20.1/quickstart.html#Quick-Start-Guide-1)\n",
    "- Ecuaciones Diferenciales: [DifferentialEquations](https://docs.juliadiffeq.org/latest/)\n",
    "- Librerías estadística: [Distributions](https://juliastats.org/Distributions.jl/latest/starting/)\n",
    "\n",
    "## Más genéricas\n",
    "- Páginas web: [Genie](https://genieframework.github.io/Genie.jl/)\n",
    "- Base de Datos: [Octo](https://github.com/wookay/Octo.jl)"
   ]
  },
  {
   "cell_type": "markdown",
   "metadata": {
    "slideshow": {
     "slide_type": "slide"
    }
   },
   "source": [
    "# IDEs\n",
    "\n",
    "- Juno: Atom con los paquetes de Julia pre-instalados.\n",
    "\n",
    "- Visual Code.\n",
    "\n",
    "- SublimeText.\n",
    "\n",
    "- Emacs."
   ]
  },
  {
   "cell_type": "markdown",
   "metadata": {
    "slideshow": {
     "slide_type": "subslide"
    }
   },
   "source": [
    "# <center>Juno</center>\n",
    "\n",
    "<center><img src=\"figs/juno.png\" width=\"80%\"></center>"
   ]
  },
  {
   "cell_type": "markdown",
   "metadata": {
    "slideshow": {
     "slide_type": "subslide"
    }
   },
   "source": [
    "# <center>Visual Code</center>\n",
    "\n",
    "<center><img src=\"figs/vcode.png\" width=\"80%\"></center>"
   ]
  },
  {
   "cell_type": "markdown",
   "metadata": {
    "slideshow": {
     "slide_type": "slide"
    }
   },
   "source": [
    "# Desventajas de Julia\n",
    "\n",
    "- Falta de madurez en librerías (falta documentación). \n",
    "- Muy enfocado al entorno científico, faltan librerías genéricas.\n",
    "- Gran latencia al compilar (ej: Tiempo para mostrar la primera gráfica).\n",
    "- Falta compilación estática.\n",
    "- Union de tipos costoso.\n",
    "- Malos mensajes de error.\n",
    "\n"
   ]
  },
  {
   "cell_type": "markdown",
   "metadata": {
    "slideshow": {
     "slide_type": "slide"
    }
   },
   "source": [
    "<center><img src=\"figs/julia_logo_small.png\"/></center>\n",
    "\n",
    "# <center>Muchas gracias por la atención</center>"
   ]
  }
 ],
 "metadata": {
  "@webio": {
   "lastCommId": null,
   "lastKernelId": null
  },
  "celltoolbar": "Slideshow",
  "kernelspec": {
   "display_name": "Julia 1.2.0",
   "language": "julia",
   "name": "julia-1.2"
  },
  "language_info": {
   "file_extension": ".jl",
   "mimetype": "application/julia",
   "name": "julia",
   "version": "1.2.0"
  }
 },
 "nbformat": 4,
 "nbformat_minor": 2
}
