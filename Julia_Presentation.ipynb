{
 "cells": [
  {
   "cell_type": "code",
   "execution_count": 1,
   "metadata": {
    "slideshow": {
     "slide_type": "skip"
    }
   },
   "outputs": [],
   "source": [
    "using Revise\n",
    "using BenchmarkTools"
   ]
  },
  {
   "cell_type": "markdown",
   "metadata": {
    "slideshow": {
     "slide_type": "slide"
    }
   },
   "source": [
    "# <center>Introduction to</center>\n",
    "<center><a href=\"http://julialang.org/\" target=\"_blank\"><img src=\"figs/julia_logo_small.png\"/></a>\n",
    "<center><a href=\"http://julialang.org/\" target=\"_blank\">http://julialang.org/</a>\n",
    "\n"
   ]
  },
  {
   "cell_type": "markdown",
   "metadata": {
    "slideshow": {
     "slide_type": "fragment"
    }
   },
   "source": [
    "### <center>Daniel Molina Cabrera</center> <br><center><a href=\"mailto:dmolina@decsai.ugr.es\">dmolina@decsai.ugr.es</a></center>\n",
    "<center><a href=\"https://github.com/dmolina/julia_presentacion\">https://github.com/dmolina/julia_presentacion</a></center>"
   ]
  },
  {
   "cell_type": "markdown",
   "metadata": {
    "slideshow": {
     "slide_type": "slide"
    }
   },
   "source": [
    "### About me\n",
    "\n",
    "<center><img src=\"figs/yo_serio.png\" style=\"float: left; margin-right: 1em\" width=\"25%\"/></center>\n",
    "\n",
    "<div>\n",
    "    <h4>Assistant professor at Computer Science and Artificial Intelligence, University of Granada (Spain)</h4>\n",
    "    <h3>Interests</h3>\n",
    "    <ul>\n",
    "        <li>Metaheuristics</li>\n",
    "        <li>Machine Learning</li>\n",
    "        <li>Software Development</li>\n",
    "    </ul>\n",
    "</div>"
   ]
  },
  {
   "cell_type": "markdown",
   "metadata": {
    "slideshow": {
     "slide_type": "slide"
    }
   },
   "source": [
    "### About me\n",
    "\n",
    "<center><img src=\"figs/yo_indiana.jpg\" style=\"float: left; margin-right: 1em\" width=\"30%\"/></center>\n",
    "\n",
    "<div>\n",
    "    <h4>Free Software supporter.</h4>\n",
    "    <h3>Several <em>frikis</em> interests</h3>\n",
    "    <ul>\n",
    "        <li>Linux user (not Windows).</li>\n",
    "        <li>Emacs.</li>\n",
    "        <li><em>Pythonic</em> and lastly <em>Julian</em></li>\n",
    "    </ul>\n",
    "</div>"
   ]
  },
  {
   "cell_type": "markdown",
   "metadata": {
    "slideshow": {
     "slide_type": "slide"
    }
   },
   "source": [
    "# What is Julia?"
   ]
  },
  {
   "cell_type": "markdown",
   "metadata": {
    "slideshow": {
     "slide_type": "subslide"
    }
   },
   "source": [
    "# Julia Motivation in 2009\n",
    "\n",
    "> We want a language that’s **open source**, with a liberal license. We want **the speed of C** with the **dynamism of Ruby**. We want a language that’s homoiconic, with true macros like Lisp, but with obvious, **familiar mathematical notation like Matlab**. We want something as usable for **general programming as Python**, **as  easy for statistics as R**, as natural for string processing as Perl, as **powerful for linear algebra as Matlab**, as good at gluing programs together as the shell. Something that is dirt simple to learn, yet keeps the most serious hackers happy. We want it **interactive** and we want **it compiled**.\n",
    "\n",
    "> (Did we mention it should be as fast as C?)"
   ]
  },
  {
   "cell_type": "markdown",
   "metadata": {
    "slideshow": {
     "slide_type": "subslide"
    }
   },
   "source": [
    "# So\n",
    "\n",
    "- It is a Free Software Language (not as Matlab).\n",
    "- For general proposed, but done by and for researchers.\n",
    "- Very efficient (functions are compiled and later not, not interpreted).\n",
    "- Very similar to Python (and to Matlab) in the good things.\n"
   ]
  },
  {
   "cell_type": "markdown",
   "metadata": {
    "slideshow": {
     "slide_type": "subslide"
    }
   },
   "source": [
    "# Python Code _vs_ Julia Code\n",
    "```python\n",
    "def fib(n):\n",
    "    if n <= 1:\n",
    "        return 1\n",
    "    else:\n",
    "        return fib(n-1)+fib(n-2)\n",
    "    \n",
    "%time fib(40)```\n"
   ]
  },
  {
   "cell_type": "code",
   "execution_count": 2,
   "metadata": {},
   "outputs": [
    {
     "name": "stdout",
     "output_type": "stream",
     "text": [
      "  0.663471 seconds (2.53 k allocations: 137.844 KiB)\n",
      "  0.664287 seconds (5 allocations: 176 bytes)\n"
     ]
    },
    {
     "data": {
      "text/plain": [
       "165580141"
      ]
     },
     "execution_count": 2,
     "metadata": {},
     "output_type": "execute_result"
    }
   ],
   "source": [
    "function fib(n)\n",
    "    if n ≤ 1\n",
    "        1\n",
    "    else\n",
    "        fib(n-1)+fib(n-2)\n",
    "    end\n",
    "end\n",
    "@time fib(40)\n",
    "@time fib(40)"
   ]
  },
  {
   "cell_type": "markdown",
   "metadata": {
    "slideshow": {
     "slide_type": "subslide"
    }
   },
   "source": [
    "\n",
    "<center><img src=\"figs/julia_nature.png\"></center>"
   ]
  },
  {
   "cell_type": "markdown",
   "metadata": {
    "slideshow": {
     "slide_type": "slide"
    }
   },
   "source": [
    "# Julia Evolution"
   ]
  },
  {
   "cell_type": "markdown",
   "metadata": {
    "slideshow": {
     "slide_type": "subslide"
    }
   },
   "source": [
    "# Julia Origin\n",
    "\n",
    "- Developed by several Phd students in MIT since 2009, first public version in 2012.\n",
    "- Version 1.0 in August 2018.\n",
    "    - More than 2 millions of downloads.\n",
    "    - 750 have committed (me included).\n",
    "    - +2400 libraries, some of them with a high quality."
   ]
  },
  {
   "cell_type": "markdown",
   "metadata": {
    "slideshow": {
     "slide_type": "subslide"
    }
   },
   "source": [
    "# Recent Julia events\n",
    "\n",
    "- New package system at the end of 2018.\n",
    "- New debugger in 2019."
   ]
  },
  {
   "cell_type": "markdown",
   "metadata": {
    "slideshow": {
     "slide_type": "fragment"
    }
   },
   "source": [
    "# Expected changes\n",
    "\n",
    "- Version 1.3 with better support of threads.\n",
    "- Improve the time loading libraries in version 1.4.\n",
    "- In a future to create binaries."
   ]
  },
  {
   "cell_type": "markdown",
   "metadata": {
    "slideshow": {
     "slide_type": "slide"
    }
   },
   "source": [
    "# Julia Reason of existence\n"
   ]
  },
  {
   "cell_type": "markdown",
   "metadata": {
    "slideshow": {
     "slide_type": "fragment"
    }
   },
   "source": [
    "## Avoid the two-languages problem\n",
    "\n",
    "- One simple for flexibility but slow (as Python).\n",
    "- One complex but quickly. "
   ]
  },
  {
   "cell_type": "markdown",
   "metadata": {
    "slideshow": {
     "slide_type": "subslide"
    }
   },
   "source": [
    "<center> <img src=\"figs/two2.png\"></center>"
   ]
  },
  {
   "cell_type": "markdown",
   "metadata": {
    "slideshow": {
     "slide_type": "subslide"
    }
   },
   "source": [
    "# It can be different"
   ]
  },
  {
   "cell_type": "markdown",
   "metadata": {
    "slideshow": {
     "slide_type": "subslide"
    }
   },
   "source": [
    "### <center>Some Benchmarks</center>\n",
    "\n",
    "<center><img src=\"figs/benchmarks.png\" width=\"80%\"/></center>"
   ]
  },
  {
   "cell_type": "markdown",
   "metadata": {
    "slideshow": {
     "slide_type": "subslide"
    }
   },
   "source": [
    "# Results\n",
    "\n",
    "<center><img src=\"figs/jit-comparison.png\"/></center>\n",
    "\n",
    "Source: https://randyzwitch.com/python-pypy-julia-r-pqr-jit-just-in-time-compiler/\n"
   ]
  },
  {
   "cell_type": "markdown",
   "metadata": {
    "slideshow": {
     "slide_type": "subslide"
    }
   },
   "source": [
    "<center><img src=\"figs/julia_vs_others.png\"/></center>"
   ]
  },
  {
   "cell_type": "markdown",
   "metadata": {
    "slideshow": {
     "slide_type": "subslide"
    }
   },
   "source": [
    "# The aim is to simplify our life"
   ]
  },
  {
   "cell_type": "markdown",
   "metadata": {
    "slideshow": {
     "slide_type": "subslide"
    }
   },
   "source": [
    "<center> <img src=\"figs/two1.png\"></center>"
   ]
  },
  {
   "cell_type": "markdown",
   "metadata": {
    "slideshow": {
     "slide_type": "subslide"
    }
   },
   "source": [
    "<center> <img src=\"figs/two3.png\"></center>"
   ]
  },
  {
   "cell_type": "markdown",
   "metadata": {
    "slideshow": {
     "slide_type": "subslide"
    }
   },
   "source": [
    "# My case is similar\n",
    "\n",
    "- I work in metaheuristics in complex problems.\n",
    "- The majority uses Matlab, I use Python."
   ]
  },
  {
   "cell_type": "markdown",
   "metadata": {
    "slideshow": {
     "slide_type": "fragment"
    }
   },
   "source": [
    "## Running shared code\n",
    "\n",
    "- Usually I receive code of other algorithms in Matlab, license problems to run them.\n",
    "- Run them in Octave means to take a lot of time running. \n",
    "- Traslate the code to Python is not easy:\n",
    "    - Different Syntax.\n",
    "    - Sources of problems: In Matlab indexes start with 1, while in Python with 0.\n",
    "    - In Python is needed to use numpy, syntax even further of original Matlab."
   ]
  },
  {
   "cell_type": "markdown",
   "metadata": {
    "slideshow": {
     "slide_type": "subslide"
    }
   },
   "source": [
    "### For my algorithms\n",
    "\n",
    "- Python for prototype.\n",
    "- Numpy for performance.\n",
    "- Avoid conditionals, try to use vectored operations, even when there are more complex to understand.\n",
    "- Identify bottlenecks.\n",
    "- Sometimes use C++ for re-implementing the slowest components (Cython).\n"
   ]
  },
  {
   "cell_type": "markdown",
   "metadata": {
    "slideshow": {
     "slide_type": "fragment"
    }
   },
   "source": [
    "### Using Julia\n",
    "\n",
    "- It is not needed neither Numpy neither cython.\n",
    "- Libraries only availables are Python using PyCall. \n",
    "- Easier to call C/C++ code than from Python. "
   ]
  },
  {
   "cell_type": "markdown",
   "metadata": {
    "slideshow": {
     "slide_type": "slide"
    }
   },
   "source": [
    "# Comparing Julia with Python"
   ]
  },
  {
   "cell_type": "markdown",
   "metadata": {
    "slideshow": {
     "slide_type": "subslide"
    }
   },
   "source": [
    "## Similarities\n",
    "\n",
    "- Very similar syntax.\n",
    "- Interactive mode (REPL) similar to IPython."
   ]
  },
  {
   "cell_type": "markdown",
   "metadata": {
    "slideshow": {
     "slide_type": "fragment"
    }
   },
   "source": [
    "<center><img src=\"figs/repl.png\"></center>\n"
   ]
  },
  {
   "cell_type": "markdown",
   "metadata": {
    "slideshow": {
     "slide_type": "fragment"
    }
   },
   "source": [
    "- Julia mode, by default.\n",
    "- Package mode \\[, for searching and managing packages.\n",
    "- Shell Mode \\; for running commands.\n",
    "\n",
    "Let's go to see them."
   ]
  },
  {
   "cell_type": "markdown",
   "metadata": {
    "slideshow": {
     "slide_type": "subslide"
    }
   },
   "source": [
    "# Official Packages Repository "
   ]
  },
  {
   "cell_type": "code",
   "execution_count": 3,
   "metadata": {
    "slideshow": {
     "slide_type": "fragment"
    }
   },
   "outputs": [
    {
     "name": "stdout",
     "output_type": "stream",
     "text": [
      "\u001b[32m\u001b[1m  Updating\u001b[22m\u001b[39m registry at `~/.julia/registries/General`\n",
      "\u001b[32m\u001b[1m  Updating\u001b[22m\u001b[39m git-repo `https://github.com/JuliaRegistries/General.git`\n",
      "\u001b[2K\u001b[?25h[1mFetching:\u001b[22m\u001b[39m [========================================>]  100.0 %.0 % [============>                            ]  27.6 %]  54.9 %>   ]  91.1 %\u001b[32m\u001b[1m Resolving\u001b[22m\u001b[39m package versions...\n",
      "\u001b[32m\u001b[1m Installed\u001b[22m\u001b[39m DocumentFormat ─── v1.1.1\n",
      "\u001b[32m\u001b[1m Installed\u001b[22m\u001b[39m OffsetArrays ───── v0.11.4\n",
      "\u001b[32m\u001b[1m Installed\u001b[22m\u001b[39m PlotThemes ─────── v1.0.1\n",
      "\u001b[32m\u001b[1m Installed\u001b[22m\u001b[39m BangBang ───────── v0.3.9\n",
      "\u001b[32m\u001b[1m Installed\u001b[22m\u001b[39m JuliaInterpreter ─ v0.7.6\n",
      "\u001b[32m\u001b[1m  Updating\u001b[22m\u001b[39m `~/.julia/environments/v1.3/Project.toml`\n",
      "\u001b[90m [no changes]\u001b[39m\n",
      "\u001b[32m\u001b[1m  Updating\u001b[22m\u001b[39m `~/.julia/environments/v1.3/Manifest.toml`\n",
      " \u001b[90m [198e06fe]\u001b[39m\u001b[93m ↑ BangBang v0.3.8 ⇒ v0.3.9\u001b[39m\n",
      " \u001b[90m [ffa9a821]\u001b[39m\u001b[93m ↑ DocumentFormat v1.1.0 ⇒ v1.1.1\u001b[39m\n",
      " \u001b[90m [aa1ae85d]\u001b[39m\u001b[93m ↑ JuliaInterpreter v0.7.5 ⇒ v0.7.6\u001b[39m\n",
      " \u001b[90m [6fe1bfb0]\u001b[39m\u001b[93m ↑ OffsetArrays v0.11.3 ⇒ v0.11.4\u001b[39m\n",
      " \u001b[90m [ccf2f8ad]\u001b[39m\u001b[93m ↑ PlotThemes v1.0.0 ⇒ v1.0.1\u001b[39m\n"
     ]
    }
   ],
   "source": [
    "using Pkg\n",
    "Pkg.add(\"OhMyREPL\")"
   ]
  },
  {
   "cell_type": "code",
   "execution_count": 4,
   "metadata": {
    "slideshow": {
     "slide_type": "fragment"
    }
   },
   "outputs": [
    {
     "name": "stderr",
     "output_type": "stream",
     "text": [
      "┌ Info: Precompiling OhMyREPL [5fb14364-9ced-5910-84b2-373655c76a03]\n",
      "└ @ Base loading.jl:1273\n"
     ]
    }
   ],
   "source": [
    "using OhMyREPL"
   ]
  },
  {
   "cell_type": "markdown",
   "metadata": {
    "slideshow": {
     "slide_type": "subslide"
    }
   },
   "source": [
    "# More similarities\n",
    "\n",
    "- Packages usage, import with **import** o with **using**. \n",
    "- Automatic tests system."
   ]
  },
  {
   "cell_type": "code",
   "execution_count": 5,
   "metadata": {},
   "outputs": [
    {
     "name": "stderr",
     "output_type": "stream",
     "text": [
      "┌ Info: Precompiling Distributions [31c24e10-a181-5473-b8eb-7969acd0382f]\n",
      "└ @ Base loading.jl:1273\n"
     ]
    },
    {
     "data": {
      "text/plain": [
       "3-element Array{Float64,1}:\n",
       " -4.002472679130271\n",
       " -4.299497402698087\n",
       " -4.219969996661906"
      ]
     },
     "execution_count": 5,
     "metadata": {},
     "output_type": "execute_result"
    }
   ],
   "source": [
    "import Distributions\n",
    "rand(Distributions.Uniform(-5, 5), 3)"
   ]
  },
  {
   "cell_type": "code",
   "execution_count": 6,
   "metadata": {},
   "outputs": [
    {
     "data": {
      "text/plain": [
       "3-element Array{Float64,1}:\n",
       " -4.50963886640892  \n",
       " -0.3465556865137609\n",
       "  4.597014906348424 "
      ]
     },
     "execution_count": 6,
     "metadata": {},
     "output_type": "execute_result"
    }
   ],
   "source": [
    "using Distributions: Uniform \n",
    "rand(Uniform(-5, 5), 3)"
   ]
  },
  {
   "cell_type": "code",
   "execution_count": 7,
   "metadata": {},
   "outputs": [
    {
     "data": {
      "text/plain": [
       "3-element Array{Float64,1}:\n",
       "  2.4261227535053926\n",
       " -4.2103109320071   \n",
       "  2.0735008203413052"
      ]
     },
     "execution_count": 7,
     "metadata": {},
     "output_type": "execute_result"
    }
   ],
   "source": [
    "using Distributions\n",
    "rand(Uniform(-5, 5), 3)"
   ]
  },
  {
   "cell_type": "markdown",
   "metadata": {
    "slideshow": {
     "slide_type": "subslide"
    }
   },
   "source": [
    "# More similarities\n",
    "\n",
    "- It is not need to declare variables.\n",
    "- Vectors.\n",
    "- Iterators (for, enumerate, zip, ...).\n",
    "- Lambda functions."
   ]
  },
  {
   "cell_type": "code",
   "execution_count": 8,
   "metadata": {},
   "outputs": [
    {
     "name": "stdout",
     "output_type": "stream",
     "text": [
      "[1 2 3]\n",
      "3\n"
     ]
    },
    {
     "data": {
      "text/plain": [
       "1-element Array{String,1}:\n",
       " \"user2\""
      ]
     },
     "execution_count": 8,
     "metadata": {},
     "output_type": "execute_result"
    }
   ],
   "source": [
    "var = [1 2 3]\n",
    "println(var)\n",
    "var = 3\n",
    "println(var)\n",
    "filter(x->x[end]=='2', [\"user$i\" for i in 1:3])"
   ]
  },
  {
   "cell_type": "markdown",
   "metadata": {
    "slideshow": {
     "slide_type": "subslide"
    }
   },
   "source": [
    "# Data Structures in the language\n",
    "\n",
    "- Arrays, inside the lenguaje.\n",
    "- String, UTF-8.\n",
    "- Dictionaries.\n",
    "- Sets"
   ]
  },
  {
   "cell_type": "code",
   "execution_count": 9,
   "metadata": {},
   "outputs": [
    {
     "name": "stdout",
     "output_type": "stream",
     "text": [
      "2bye!\n",
      "1hello\n"
     ]
    }
   ],
   "source": [
    "valores = [\"hello\", \"bye!\"];\n",
    "dict = Dict(i=>val for (i, val) in enumerate(valores))\n",
    "\n",
    "for (k,v) in dict\n",
    "    println(k, v)\n",
    "end"
   ]
  },
  {
   "cell_type": "code",
   "execution_count": 10,
   "metadata": {},
   "outputs": [
    {
     "name": "stdout",
     "output_type": "stream",
     "text": [
      "[2, 1]\n"
     ]
    }
   ],
   "source": [
    "println(keys(dict))"
   ]
  },
  {
   "cell_type": "code",
   "execution_count": 11,
   "metadata": {},
   "outputs": [
    {
     "data": {
      "text/plain": [
       "3-element Array{Int64,1}:\n",
       " 4\n",
       " 2\n",
       " 1"
      ]
     },
     "execution_count": 11,
     "metadata": {},
     "output_type": "execute_result"
    }
   ],
   "source": [
    "collect(Set([1, 2, 4, 2, 4]))"
   ]
  },
  {
   "cell_type": "markdown",
   "metadata": {
    "slideshow": {
     "slide_type": "subslide"
    }
   },
   "source": [
    "# Differences in the syntax\n",
    "\n",
    "- _def_ => _function_ (as Matlab).\n",
    "- No use tab for separate, it uses **end**. \n",
    "- The good thing is has not not begin, and _end_ is limited (not before an else, for instance)."
   ]
  },
  {
   "cell_type": "code",
   "execution_count": 12,
   "metadata": {},
   "outputs": [
    {
     "name": "stdout",
     "output_type": "stream",
     "text": [
      "fibo(40) = 165580141\n",
      "  0.039249 seconds (61.35 k allocations: 3.026 MiB)\n"
     ]
    },
    {
     "data": {
      "text/plain": [
       "165580141"
      ]
     },
     "execution_count": 12,
     "metadata": {},
     "output_type": "execute_result"
    }
   ],
   "source": [
    "function fibo(n::Int)\n",
    "    (a, b) = (1, 1)\n",
    "    \n",
    "    for _ in 1:n-1\n",
    "        (a, b) = (a+b, a)   \n",
    "        end\n",
    "    a\n",
    "end\n",
    "@time @show fibo(40)"
   ]
  },
  {
   "cell_type": "markdown",
   "metadata": {
    "slideshow": {
     "slide_type": "subslide"
    }
   },
   "source": [
    "# Optional typing\n",
    "- It is not needed, Julia deduces theme when you call the function.\n",
    "- There are generic types, usefuls for avoid errors (Int, Float, Real, Number, AbstractString, ...)."
   ]
  },
  {
   "cell_type": "code",
   "execution_count": 13,
   "metadata": {},
   "outputs": [
    {
     "data": {
      "text/plain": [
       "9"
      ]
     },
     "execution_count": 13,
     "metadata": {},
     "output_type": "execute_result"
    }
   ],
   "source": [
    "sphere(x)= sum(x.^2)\n",
    "sphere(3)"
   ]
  },
  {
   "cell_type": "code",
   "execution_count": 14,
   "metadata": {},
   "outputs": [
    {
     "data": {
      "text/plain": [
       "50"
      ]
     },
     "execution_count": 14,
     "metadata": {},
     "output_type": "execute_result"
    }
   ],
   "source": [
    "sphere([3, 4, 5])"
   ]
  },
  {
   "cell_type": "markdown",
   "metadata": {
    "slideshow": {
     "slide_type": "subslide"
    }
   },
   "source": [
    "# It is efficient because it can compile for each concrete type"
   ]
  },
  {
   "cell_type": "code",
   "execution_count": 15,
   "metadata": {},
   "outputs": [
    {
     "name": "stdout",
     "output_type": "stream",
     "text": [
      "Variables\n",
      "  #self#\u001b[36m::Core.Compiler.Const(sphere, false)\u001b[39m\n",
      "  x\u001b[36m::Array{Int64,1}\u001b[39m\n",
      "\n",
      "Body\u001b[36m::Int64\u001b[39m\n",
      "\u001b[90m1 ─\u001b[39m %1 = Core.apply_type(Base.Val, 2)\u001b[36m::Core.Compiler.Const(Val{2}, false)\u001b[39m\n",
      "\u001b[90m│  \u001b[39m %2 = (%1)()\u001b[36m::Core.Compiler.Const(Val{2}(), false)\u001b[39m\n",
      "\u001b[90m│  \u001b[39m %3 = Base.broadcasted(Base.literal_pow, Main.:^, x, %2)\u001b[36m::Base.Broadcast.Broadcasted{Base.Broadcast.DefaultArrayStyle{1},Nothing,typeof(Base.literal_pow),Tuple{Base.RefValue{typeof(^)},Array{Int64,1},Base.RefValue{Val{2}}}}\u001b[39m\n",
      "\u001b[90m│  \u001b[39m %4 = Base.materialize(%3)\u001b[36m::Array{Int64,1}\u001b[39m\n",
      "\u001b[90m│  \u001b[39m %5 = Main.sum(%4)\u001b[36m::Int64\u001b[39m\n",
      "\u001b[90m└──\u001b[39m      return %5\n"
     ]
    }
   ],
   "source": [
    "@code_warntype sphere([3, 4, 5])"
   ]
  },
  {
   "cell_type": "markdown",
   "metadata": {
    "slideshow": {
     "slide_type": "subslide"
    }
   },
   "source": [
    "# It is efficient because it can compile for each concrete type"
   ]
  },
  {
   "cell_type": "code",
   "execution_count": 16,
   "metadata": {},
   "outputs": [],
   "source": [
    "fabsurda(x)=x^2+3;  "
   ]
  },
  {
   "cell_type": "code",
   "execution_count": 17,
   "metadata": {},
   "outputs": [
    {
     "name": "stdout",
     "output_type": "stream",
     "text": [
      "Variables\n",
      "  #self#\u001b[36m::Core.Compiler.Const(fabsurda, false)\u001b[39m\n",
      "  x\u001b[36m::Int64\u001b[39m\n",
      "\n",
      "Body\u001b[36m::Int64\u001b[39m\n",
      "\u001b[90m1 ─\u001b[39m %1 = Core.apply_type(Base.Val, 2)\u001b[36m::Core.Compiler.Const(Val{2}, false)\u001b[39m\n",
      "\u001b[90m│  \u001b[39m %2 = (%1)()\u001b[36m::Core.Compiler.Const(Val{2}(), false)\u001b[39m\n",
      "\u001b[90m│  \u001b[39m %3 = Base.literal_pow(Main.:^, x, %2)\u001b[36m::Int64\u001b[39m\n",
      "\u001b[90m│  \u001b[39m %4 = (%3 + 3)\u001b[36m::Int64\u001b[39m\n",
      "\u001b[90m└──\u001b[39m      return %4\n"
     ]
    }
   ],
   "source": [
    "@code_warntype fabsurda(3)"
   ]
  },
  {
   "cell_type": "code",
   "execution_count": 18,
   "metadata": {
    "slideshow": {
     "slide_type": "subslide"
    }
   },
   "outputs": [
    {
     "name": "stdout",
     "output_type": "stream",
     "text": [
      "Variables\n",
      "  #self#\u001b[36m::Core.Compiler.Const(fabsurda, false)\u001b[39m\n",
      "  x\u001b[36m::Rational{Int64}\u001b[39m\n",
      "\n",
      "Body\u001b[36m::Rational{Int64}\u001b[39m\n",
      "\u001b[90m1 ─\u001b[39m %1 = Core.apply_type(Base.Val, 2)\u001b[36m::Core.Compiler.Const(Val{2}, false)\u001b[39m\n",
      "\u001b[90m│  \u001b[39m %2 = (%1)()\u001b[36m::Core.Compiler.Const(Val{2}(), false)\u001b[39m\n",
      "\u001b[90m│  \u001b[39m %3 = Base.literal_pow(Main.:^, x, %2)\u001b[36m::Rational{Int64}\u001b[39m\n",
      "\u001b[90m│  \u001b[39m %4 = (%3 + 3)\u001b[36m::Rational{Int64}\u001b[39m\n",
      "\u001b[90m└──\u001b[39m      return %4\n"
     ]
    }
   ],
   "source": [
    "@code_warntype fabsurda(1//3)"
   ]
  },
  {
   "cell_type": "code",
   "execution_count": 19,
   "metadata": {
    "slideshow": {
     "slide_type": "fragment"
    }
   },
   "outputs": [
    {
     "name": "stdout",
     "output_type": "stream",
     "text": [
      "\n",
      ";  @ In[16]:1 within `fabsurda'\n",
      "define i64 @julia_fabsurda_18630(i64) {\n",
      "top:\n",
      "; ┌ @ intfuncs.jl:244 within `literal_pow'\n",
      "; │┌ @ int.jl:54 within `*'\n",
      "    %1 = mul i64 %0, %0\n",
      "; └└\n",
      "; ┌ @ int.jl:53 within `+'\n",
      "   %2 = add i64 %1, 3\n",
      "; └\n",
      "  ret i64 %2\n",
      "}\n"
     ]
    }
   ],
   "source": [
    "@code_llvm fabsurda(3)"
   ]
  },
  {
   "cell_type": "markdown",
   "metadata": {
    "slideshow": {
     "slide_type": "subslide"
    }
   },
   "source": [
    "# Working with indexes\n",
    "- Index starts with 1, not 0. \n",
    "- It is not so probelmatic, anyway it is very common to use iterator and/or enumerate: "
   ]
  },
  {
   "cell_type": "code",
   "execution_count": 20,
   "metadata": {},
   "outputs": [
    {
     "name": "stdout",
     "output_type": "stream",
     "text": [
      "1: One\n",
      "2: Two\n",
      "3: Three\n",
      "--------\n",
      "One\n",
      "Two\n",
      "Three\n",
      "1: One\n",
      "2: Two\n",
      "3: Three\n"
     ]
    }
   ],
   "source": [
    "values = [\"One\", \"Two\", \"Three\"]\n",
    "\n",
    "for i = 1:length(values)\n",
    "    println(\"$i: \", values[i])\n",
    "end\n",
    "println(\"-\"^8)\n",
    "for val in values\n",
    "    println(val)\n",
    "end\n",
    "for (i, val) in enumerate(values)\n",
    "    println(\"$i: $val\")\n",
    "end"
   ]
  },
  {
   "cell_type": "markdown",
   "metadata": {
    "slideshow": {
     "slide_type": "subslide"
    }
   },
   "source": [
    "# Functional, not Object Oriented\n",
    "\n",
    "- Packages define structs and functions using them. \n",
    "- Multiple Dispatch:\n",
    "    - Not cost. \n",
    "    - Example: Table interface used by multiple implementations (DataFrames, ...).\n",
    "- Functional interface.\n",
    "- Operator |> to concat operations."
   ]
  },
  {
   "cell_type": "code",
   "execution_count": 21,
   "metadata": {},
   "outputs": [
    {
     "name": "stdout",
     "output_type": "stream",
     "text": [
      "HELLO\n",
      "HELLO\n"
     ]
    }
   ],
   "source": [
    "msg = \"Hello\"\n",
    "println(uppercase(msg))\n",
    "msg |> uppercase |> println"
   ]
  },
  {
   "cell_type": "code",
   "execution_count": 22,
   "metadata": {
    "slideshow": {
     "slide_type": "subslide"
    }
   },
   "outputs": [
    {
     "name": "stdout",
     "output_type": "stream",
     "text": [
      "My println: 4: Hello\n",
      "methods(println) = # 4 methods for generic function \"println\":\n",
      "[1] println(io::IO) in Base at coreio.jl:5\n",
      "[2] println(io::IO, v::MyData) in Main at In[22]:9\n",
      "[3] println(io::IO, xs...) in Base at strings/io.jl:73\n",
      "[4] println(xs...) in Base at coreio.jl:4\n",
      "methodswith(typeof(data)) = Method[println(io::IO, v::MyData) in Main at In[22]:9]\n"
     ]
    },
    {
     "data": {
      "text/html": [
       "1-element Array{Method,1}:<ul><li> println(io::<b>IO</b>, v::<b>MyData</b>) in Main at In[22]:9</ul>"
      ],
      "text/plain": [
       "[1] println(io::IO, v::MyData) in Main at In[22]:9"
      ]
     },
     "execution_count": 22,
     "metadata": {},
     "output_type": "execute_result"
    }
   ],
   "source": [
    "struct MyData\n",
    "    n::Int64\n",
    "    s::String\n",
    "end\n",
    "\n",
    "using Base: println\n",
    "\n",
    "function Base.println(io::IO, v::MyData)\n",
    "    println(io, \"My println: \", string(v.n), \": \", v.s)\n",
    "end\n",
    "\n",
    "data = MyData(4, \"Hello\")\n",
    "println(data)\n",
    "@show methods(println)\n",
    "@show methodswith(typeof(data))"
   ]
  },
  {
   "cell_type": "markdown",
   "metadata": {
    "slideshow": {
     "slide_type": "subslide"
    }
   },
   "source": [
    "# Dot operator\n",
    "\n",
    "- It allows us to vectorise any function. \n",
    "- It produces more efficient operations."
   ]
  },
  {
   "cell_type": "code",
   "execution_count": 23,
   "metadata": {},
   "outputs": [
    {
     "name": "stdout",
     "output_type": "stream",
     "text": [
      "op.([1, 2, 3, 4, 5, 6, 7]) = [-4, -1, 4, 11, 20, 31, 44]\n"
     ]
    }
   ],
   "source": [
    "op(x) = x*x-5\n",
    "@show op.([1,2,3, 4, 5, 6, 7])\n",
    "# println.(op.([1, 2, 4]));"
   ]
  },
  {
   "cell_type": "markdown",
   "metadata": {
    "slideshow": {
     "slide_type": "subslide"
    }
   },
   "source": [
    "# More complex example"
   ]
  },
  {
   "cell_type": "code",
   "execution_count": 24,
   "metadata": {},
   "outputs": [],
   "source": [
    "A = rand(Uniform(-5, 5), 3000); B = rand(Uniform(-5, 5), 3000); "
   ]
  },
  {
   "cell_type": "code",
   "execution_count": 25,
   "metadata": {},
   "outputs": [
    {
     "name": "stdout",
     "output_type": "stream",
     "text": [
      "  782.811 ns (0 allocations: 0 bytes)\n"
     ]
    }
   ],
   "source": [
    "C = similar(A);\n",
    "function add1!(C, A, B)\n",
    "    C .= A .+ B\n",
    "end\n",
    "@btime add1!(C, A, B);"
   ]
  },
  {
   "cell_type": "code",
   "execution_count": 26,
   "metadata": {},
   "outputs": [
    {
     "name": "stdout",
     "output_type": "stream",
     "text": [
      "  772.692 ns (0 allocations: 0 bytes)\n"
     ]
    }
   ],
   "source": [
    "add2!(C, A, B) = @. C = A+B\n",
    "@btime add2!(C, A, B);"
   ]
  },
  {
   "cell_type": "code",
   "execution_count": 27,
   "metadata": {},
   "outputs": [
    {
     "name": "stdout",
     "output_type": "stream",
     "text": [
      "  773.067 ns (0 allocations: 0 bytes)\n"
     ]
    }
   ],
   "source": [
    "function add3!(C, A, B)\n",
    "@inbounds @simd for i in 1:length(A)\n",
    "    C[i] = A[i]+B[i]\n",
    "    end\n",
    "end\n",
    "\n",
    "@btime add3!(C, A, B)"
   ]
  },
  {
   "cell_type": "markdown",
   "metadata": {
    "slideshow": {
     "slide_type": "subslide"
    }
   },
   "source": [
    "# Files usage\n"
   ]
  },
  {
   "cell_type": "code",
   "execution_count": 28,
   "metadata": {},
   "outputs": [
    {
     "data": {
      "text/plain": [
       "4-element Array{String,1}:\n",
       " \"Students1\"\n",
       " \"Students3\"\n",
       " \"Students5\"\n",
       " \"Students7\""
      ]
     },
     "execution_count": 28,
     "metadata": {},
     "output_type": "execute_result"
    }
   ],
   "source": [
    "users = [\"Students$(elem)\" for elem in 1:2:8]"
   ]
  },
  {
   "cell_type": "code",
   "execution_count": 29,
   "metadata": {},
   "outputs": [],
   "source": [
    "open(\"users.txt\", \"w\") do file\n",
    "    for user in users\n",
    "        println(file, user)\n",
    "    end\n",
    "end"
   ]
  },
  {
   "cell_type": "code",
   "execution_count": 30,
   "metadata": {},
   "outputs": [
    {
     "name": "stdout",
     "output_type": "stream",
     "text": [
      "Students1\n",
      "Students3\n",
      "Students5\n",
      "Students7\n"
     ]
    }
   ],
   "source": [
    "open(\"users.txt\") do file\n",
    "    for line in readlines(file)\n",
    "        println(strip(line))\n",
    "    end\n",
    "end"
   ]
  },
  {
   "cell_type": "markdown",
   "metadata": {
    "slideshow": {
     "slide_type": "subslide"
    }
   },
   "source": [
    "# Communication with other languages\n",
    "\n",
    "- Calling Python/R/C++ code."
   ]
  },
  {
   "cell_type": "markdown",
   "metadata": {},
   "source": [
    "```c\n",
    "// Code in libsaludo.so\n",
    "#include <stdio.h>\n",
    "\n",
    "char msg[80];\n",
    "\n",
    "char *getname(int num) {\n",
    "  sprintf(msg, \"Hello to the %d asistants\", num);\n",
    "  return msg;\n",
    "}\n",
    "```"
   ]
  },
  {
   "cell_type": "markdown",
   "metadata": {
    "slideshow": {
     "slide_type": "subslide"
    }
   },
   "source": [
    "## Calling the code\n",
    "\n",
    "It is compiled as .so library, and later it can be called from Julia."
   ]
  },
  {
   "cell_type": "code",
   "execution_count": 31,
   "metadata": {},
   "outputs": [
    {
     "name": "stdout",
     "output_type": "stream",
     "text": [
      "Hola a todos los 16 asistentes\n"
     ]
    }
   ],
   "source": [
    "using Libdl\n",
    "lib_ptr = dlopen(\"./libsaludo.so\")\n",
    "get_name = dlsym(lib_ptr, \"getname\")\n",
    "result = ccall(get_name, Cstring, (Cint, ), 16)\n",
    "println(unsafe_string(result))"
   ]
  },
  {
   "cell_type": "markdown",
   "metadata": {
    "slideshow": {
     "slide_type": "subslide"
    }
   },
   "source": [
    "# Calling Python code"
   ]
  },
  {
   "cell_type": "code",
   "execution_count": 32,
   "metadata": {},
   "outputs": [
    {
     "name": "stdout",
     "output_type": "stream",
     "text": [
      "0.1411200080598672\n"
     ]
    },
    {
     "data": {
      "text/plain": [
       "5-element Array{Float64,1}:\n",
       " 0.46084979674501225\n",
       " 0.7373994577304266 \n",
       " 0.9538972752780361 \n",
       " 0.06493803706344503\n",
       " 0.19926060636955512"
      ]
     },
     "execution_count": 32,
     "metadata": {},
     "output_type": "execute_result"
    }
   ],
   "source": [
    "using PyCall\n",
    "math=pyimport(\"math\")\n",
    "println(math.sin(3)) # Call to sin function from Python math\n",
    "np=pyimport(\"numpy\")\n",
    "np.random.rand(5) # It converts to Julia array"
   ]
  },
  {
   "cell_type": "markdown",
   "metadata": {
    "slideshow": {
     "slide_type": "subslide"
    }
   },
   "source": [
    "# Help mode\n",
    "\n",
    "It encourages the addition of descriptions for each function."
   ]
  },
  {
   "cell_type": "code",
   "execution_count": 33,
   "metadata": {},
   "outputs": [
    {
     "name": "stdout",
     "output_type": "stream",
     "text": [
      "fibo(40) = 165580141\n",
      "  0.009521 seconds (16.93 k allocations: 925.431 KiB)\n"
     ]
    },
    {
     "data": {
      "text/plain": [
       "165580141"
      ]
     },
     "execution_count": 33,
     "metadata": {},
     "output_type": "execute_result"
    }
   ],
   "source": [
    "\"\"\"\n",
    "This function calculates the fibunacci number.\n",
    "\n",
    "n: Idel cual calcular fibonacci.\n",
    "\"\"\"\n",
    "function fibo(n::Int)\n",
    "    (a, b) = (1, 1)\n",
    "    \n",
    "    for _ in 1:n-1\n",
    "        (a, b) = (a+b, a)\n",
    "    end\n",
    "    a\n",
    "end\n",
    "@time @show fibo(40)"
   ]
  },
  {
   "cell_type": "code",
   "execution_count": 34,
   "metadata": {
    "slideshow": {
     "slide_type": "subslide"
    }
   },
   "outputs": [
    {
     "name": "stdout",
     "output_type": "stream",
     "text": [
      "search: \u001b[0m\u001b[1mf\u001b[22m\u001b[0m\u001b[1mi\u001b[22m\u001b[0m\u001b[1mb\u001b[22m\u001b[0m\u001b[1mo\u001b[22m \u001b[0m\u001b[1mf\u001b[22m\u001b[0m\u001b[1mi\u001b[22m\u001b[0m\u001b[1mb\u001b[22m \u001b[0m\u001b[1mf\u001b[22m\u001b[0m\u001b[1mi\u001b[22mnd_li\u001b[0m\u001b[1mb\u001b[22mrary \u001b[0m\u001b[1mf\u001b[22ma\u001b[0m\u001b[1mi\u001b[22mlpro\u001b[0m\u001b[1mb\u001b[22m unsa\u001b[0m\u001b[1mf\u001b[22me_po\u001b[0m\u001b[1mi\u001b[22mnter_to_o\u001b[0m\u001b[1mb\u001b[22mjref\n",
      "\n"
     ]
    },
    {
     "data": {
      "text/latex": [
       "This function calculates the fibunacci number.\n",
       "\n",
       "n: Idel cual calcular fibonacci.\n",
       "\n"
      ],
      "text/markdown": [
       "This function calculates the fibunacci number.\n",
       "\n",
       "n: Idel cual calcular fibonacci.\n"
      ],
      "text/plain": [
       "  This function calculates the fibunacci number.\n",
       "\n",
       "  n: Idel cual calcular fibonacci."
      ]
     },
     "execution_count": 34,
     "metadata": {},
     "output_type": "execute_result"
    }
   ],
   "source": [
    "?fibo"
   ]
  },
  {
   "cell_type": "markdown",
   "metadata": {
    "slideshow": {
     "slide_type": "subslide"
    }
   },
   "source": [
    "# Flexible\n",
    "\n",
    "## It can be customized"
   ]
  },
  {
   "cell_type": "code",
   "execution_count": 35,
   "metadata": {},
   "outputs": [
    {
     "ename": "ErrorException",
     "evalue": "use occursin(x, y) for string containment",
     "output_type": "error",
     "traceback": [
      "use occursin(x, y) for string containment",
      "",
      "Stacktrace:",
      " [1] error(::String) at ./error.jl:33",
      " [2] in(::String, ::String) at ./strings/search.jl:533",
      " [3] top-level scope at In[35]:1"
     ]
    }
   ],
   "source": [
    "\"a\" in \"hola\""
   ]
  },
  {
   "cell_type": "code",
   "execution_count": 36,
   "metadata": {},
   "outputs": [
    {
     "data": {
      "text/plain": [
       "true"
      ]
     },
     "execution_count": 36,
     "metadata": {},
     "output_type": "execute_result"
    }
   ],
   "source": [
    "using Base: in\n",
    "\n",
    "Base.in(a::AbstractString, b::AbstractString) = occursin(a, b)\n",
    "\n",
    "\"a\" in \"hola\""
   ]
  },
  {
   "cell_type": "markdown",
   "metadata": {
    "slideshow": {
     "slide_type": "subslide"
    }
   },
   "source": [
    "## Macros\n",
    "\n",
    "- They start with @.\n",
    "- They can generate code. \n"
   ]
  },
  {
   "cell_type": "code",
   "execution_count": 37,
   "metadata": {},
   "outputs": [
    {
     "name": "stdout",
     "output_type": "stream",
     "text": [
      "  0.729349 seconds (963.56 k allocations: 45.481 MiB, 1.63% gc time)\n",
      "  0.000001 seconds (3 allocations: 144 bytes)\n"
     ]
    }
   ],
   "source": [
    "macro load(x) # using sometimes is slow, this macro only does it if it was not previously loaded\n",
    "    if !(x in names(Main, all=false, imported=true))\n",
    "        return :(using $x)\n",
    "    end\n",
    "end\n",
    "\n",
    "@time using OhMyREPL\n",
    "@time @load OhMyREPL"
   ]
  },
  {
   "cell_type": "markdown",
   "metadata": {},
   "source": [
    "It can be build very easily the documentation, Package  [Documenter.jl](https://juliadocs.github.io/Documenter.jl/stable/):\n",
    "\n",
    "- Markdown to describe the documentation.\n",
    "- It can insert the API documentation.\n",
    "- Tests as documentation."
   ]
  },
  {
   "cell_type": "markdown",
   "metadata": {
    "slideshow": {
     "slide_type": "slide"
    }
   },
   "source": [
    "# Scientific Community\n",
    "\n",
    "Popular packages/libraries in: [https://pkg.julialang.org/docs/](https://pkg.julialang.org/docs/)\n",
    "\n",
    "- Notebook: [IJulia](https://pkg.julialang.org/docs/IJulia/nfu7T/1.20.2/)\n",
    "- Scientific: [QueryVerse](https://www.queryverse.org/)\n",
    "    - DataFrames: [DataFrames.jl](https://github.com/JuliaData/DataFrames.jl)\n",
    "    - Visualization: [VegaLite](https://www.queryverse.org/VegaLite.jl/stable/)\n",
    "- Visualization: [Gadfly](https://gadflyjl.org/stable/tutorial/), [Plots](https://docs.juliaplots.org/latest/tutorial/#tutorial-1), [StatsPlots](https://github.com/JuliaPlots/StatsPlots.jl)\n",
    "- Deep Learning Libraries: [Flux.jl](https://fluxml.ai/), [KNet.jl](https://github.com/denizyuret/Knet.jl).\n",
    "- Machine Learning: [ScikitLearn.jl](https://github.com/cstjean/ScikitLearn.jl), [MLJ](https://pkg.julialang.org/docs/MLJ/rAU56/0.5.4/) \n"
   ]
  },
  {
   "cell_type": "markdown",
   "metadata": {
    "slideshow": {
     "slide_type": "subslide"
    }
   },
   "source": [
    "# Scientific Community\n",
    "\n",
    "## State-of-the-art libraries\n",
    "- Optimization library: [JuMP](https://pkg.julialang.org/docs/JuMP/DmXqY/0.20.1/quickstart.html#Quick-Start-Guide-1)\n",
    "- Differential Equations: [DifferentialEquations](https://docs.juliadiffeq.org/latest/)\n",
    "- Statistical Distributions: [Distributions](https://juliastats.org/Distributions.jl/latest/starting/)\n",
    "\n",
    "## More generic\n",
    "- web pages: [Genie](https://genieframework.github.io/Genie.jl/)\n",
    "- Databases: [Octo](https://github.com/wookay/Octo.jl)"
   ]
  },
  {
   "cell_type": "markdown",
   "metadata": {
    "slideshow": {
     "slide_type": "slide"
    }
   },
   "source": [
    "# IDEs\n",
    "\n",
    "- Juno: Atom with Julia packages pre-installed.\n",
    "\n",
    "- Visual Code.\n",
    "\n",
    "- SublimeText.\n",
    "\n",
    "- Emacs."
   ]
  },
  {
   "cell_type": "markdown",
   "metadata": {
    "slideshow": {
     "slide_type": "subslide"
    }
   },
   "source": [
    "# <center>Juno</center>\n",
    "\n",
    "<center><img src=\"figs/juno.png\" width=\"80%\"></center>"
   ]
  },
  {
   "cell_type": "markdown",
   "metadata": {
    "slideshow": {
     "slide_type": "subslide"
    }
   },
   "source": [
    "# <center>Visual Code</center>\n",
    "\n",
    "<center><img src=\"figs/vcode.png\" width=\"80%\"></center>"
   ]
  },
  {
   "cell_type": "markdown",
   "metadata": {
    "slideshow": {
     "slide_type": "slide"
    }
   },
   "source": [
    "# Other Julia advantages \n",
    "\n",
    "- Mathematical notation."
   ]
  },
  {
   "cell_type": "code",
   "execution_count": 38,
   "metadata": {},
   "outputs": [
    {
     "data": {
      "text/plain": [
       "6.3"
      ]
     },
     "execution_count": 38,
     "metadata": {},
     "output_type": "execute_result"
    }
   ],
   "source": [
    "fun_mat(x; α=0.5)=3α+2x\n",
    "    \n",
    "fun_mat(3, α=0.1)"
   ]
  },
  {
   "cell_type": "markdown",
   "metadata": {},
   "source": [
    "- Easier to create an official package than using pip.\n",
    "    - Created from pkg, recommendable to use PkgTemplate.jl\n",
    "- Reasonable notation, functions which change the parameters end with \"!\"."
   ]
  },
  {
   "cell_type": "markdown",
   "metadata": {
    "slideshow": {
     "slide_type": "subslide"
    }
   },
   "source": [
    "# Suggestions about Julia\n",
    "\n",
    "- Loading libraries can be costly. \n",
    "    - Load it once, and later use include to load the files. \n",
    "    - Use Revise that is able to reload automatically the files when they change.\n",
    "- For performance, the variable should not change its type.\n",
    "- Not use [], but Type[]."
   ]
  },
  {
   "cell_type": "code",
   "execution_count": 39,
   "metadata": {},
   "outputs": [
    {
     "name": "stdout",
     "output_type": "stream",
     "text": [
      "typeof(a) = Array{Any,1}\n",
      "typeof(b) = Array{Int64,1}\n"
     ]
    }
   ],
   "source": [
    "a = []\n",
    "push!(a, 3)\n",
    "@show typeof(a)\n",
    "b = Int[]\n",
    "push!(b, 3)\n",
    "@show typeof(b);"
   ]
  },
  {
   "cell_type": "markdown",
   "metadata": {
    "slideshow": {
     "slide_type": "subslide"
    }
   },
   "source": [
    "# Suggestions about Julia\n",
    "\n",
    "- Read documentation, to adapt the style to the language.\n",
    "- To document own functions, be clear. \n",
    "- Define types in parameters only for security, not abuse.\n",
    "- Use packages, simple and it maintains clear the dependencies of your code.\n",
    "- Avoid global variables, only use global constants (keywork **const**).\n",
    "- Put all the code inside a function, as main()."
   ]
  },
  {
   "cell_type": "markdown",
   "metadata": {
    "slideshow": {
     "slide_type": "subslide"
    }
   },
   "source": [
    "# Julia main Disadvantages\n",
    "\n",
    "- Great latency compiling (the time of the first plot).\n",
    "- Several libraries are not very mature (many of them should have better documentation).\n",
    "- It lacks static compilation.\n",
    "- Very focussed arounf scientific environment, it lacks more general libraries. \n",
    "- Costly type union. \n",
    "- It could be better error messages.\n",
    "\n"
   ]
  },
  {
   "cell_type": "markdown",
   "metadata": {
    "slideshow": {
     "slide_type": "slide"
    }
   },
   "source": [
    "<center><img src=\"figs/julia_logo_small.png\"/></center>\n",
    "<center><h2>Thanks you for the attention</h2></center>\n",
    "<br><center>danimolina@gmail.com</center>\n",
    "<center><a href=\"https://github.com/dmolina/julia_presentacion\">https://github.com/dmolina/julia_presentacion</a></center>"
   ]
  }
 ],
 "metadata": {
  "jupytext": {
   "formats": "ipynb,md"
  },
  "kernelspec": {
   "display_name": "Julia 1.3.0",
   "language": "julia",
   "name": "julia-1.3"
  },
  "language_info": {
   "file_extension": ".jl",
   "mimetype": "application/julia",
   "name": "julia",
   "version": "1.3.0"
  }
 },
 "nbformat": 4,
 "nbformat_minor": 2
}
